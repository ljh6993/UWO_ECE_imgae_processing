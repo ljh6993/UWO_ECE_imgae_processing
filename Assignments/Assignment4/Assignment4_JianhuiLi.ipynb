{
 "cells": [
  {
   "cell_type": "markdown",
   "metadata": {},
   "source": [
    "<h1 align=\"center\">ECE 4438B Advanced Image Processing and Analysis</h1>\n",
    "<h3 align=\"center\">Assignment #4</h3>\n",
    "<h4 align=\"center\">Jianhui Li,  <a href=\"mailto:ljianhui@uwo.ca?subject=Assignment4\">ljianhui@uwo.ca</a></h4>\n",
    "<h4 align=\"center\">Mechatronic Systems Engineering</h4>\n",
    "<h4 align=\"center\">Western University</h4>\n",
    "<h4 align=\"center\">Date of submission: April. 19th, 2019</h4>\n",
    "<h4 align=\"center\">Submitted to: Elvis C.S. Chen</h4>"
   ]
  },
  {
   "cell_type": "markdown",
   "metadata": {},
   "source": [
    "**Question 1** ($5$ marks)\n",
    "\n",
    "Assume the list of landmarks are recorded in two text files named `P.txt` and `V.txt`, each of the following formats:\n",
    "\n",
    "```\n",
    "x1 y1\n",
    "x2 y2\n",
    "...\n",
    "xn yn\n",
    "```\n",
    "\n",
    "where the list of landmarks from image **A** is stored in `P.txt`, and landmarks from image **B** is stored in `V.txt`, respectively. A single white space \" \" is used to separate the values.\n",
    "\n",
    "Consult with the `numpy.loadtxt` [documentation](https://docs.scipy.org/doc/numpy/reference/generated/numpy.loadtxt.html). Write a Python function that reads the text file and return them as a $2$D numpy array.\n",
    "\n",
    "The function header should look like this:\n",
    "\n",
    "``` python\n",
    "def readLandmarksFromFile( fname ):\n",
    "``` \n",
    "**(5 marks)** Correct implementation of this function. Because we will be using it to read 2 files, \n",
    "  * the file name(s) is the input of this function,\n",
    "  * the output is a $2$D numpy array whose numerical value corresponds to the values stored in the text file,\n",
    " "
   ]
  },
  {
   "cell_type": "code",
   "execution_count": 3,
   "metadata": {},
   "outputs": [],
   "source": [
    "import numpy as np\n",
    "import SimpleITK as sitk"
   ]
  },
  {
   "cell_type": "code",
   "execution_count": 4,
   "metadata": {},
   "outputs": [],
   "source": [
    "def readLandmarksFromFile( fname ):\n",
    "    array = np.loadtxt(fname)\n",
    "    return array"
   ]
  },
  {
   "cell_type": "code",
   "execution_count": 5,
   "metadata": {},
   "outputs": [
    {
     "name": "stdout",
     "output_type": "stream",
     "text": [
      "[[ 0.  1.]\n",
      " [-1.  0.]\n",
      " [ 0. -1.]\n",
      " [ 1.  0.]]\n",
      "[[ 0.    0.75]\n",
      " [-1.    0.25]\n",
      " [ 0.   -1.25]\n",
      " [ 1.    0.25]]\n"
     ]
    }
   ],
   "source": [
    "P = readLandmarksFromFile('P.txt') # upload matrix from .txt\n",
    "V = readLandmarksFromFile('v.txt')\n",
    "print(P)\n",
    "print(V)"
   ]
  },
  {
   "cell_type": "markdown",
   "metadata": {},
   "source": [
    "**Question 2** ($10$ marks)\n",
    "\n",
    "Implement the spatial function $U$ in $2$D for TPS for **a single homogous point-pair**. The function header should look like this:\n",
    "\n",
    "``` python\n",
    "def computeU( pi, vi ):\n",
    "```\n",
    "\n",
    "where\n",
    "\n",
    "$\n",
    "\\begin{eqnarray}\n",
    "p_i & = & \\begin{bmatrix} x_i\\\\y_i\\end{bmatrix}\\\\\n",
    "v_i & = & \\begin{bmatrix} x'_i\\\\y'_i\\end{bmatrix}\n",
    "\\end{eqnarray}\n",
    "$\n",
    "\n",
    "are points in $P$ and $V$, respectively. The output of this function is a *scalar*.\n",
    "\n",
    "**(10 marks)** Correct implementation of this function:\n",
    "  * Using the class notes and Bookstein's paper, implement the correct formulation of $U$ for $2$D TPS.\n",
    "  * complete and detailed documentation\n",
    "  \n",
    "*hints*\n",
    "* using the notation on page 570 of Bookstein's paper, $r_{ij}$ is the Euclidean distance between points $i$ and point $j$. The function $U$ is a measure of the bending energy."
   ]
  },
  {
   "cell_type": "markdown",
   "metadata": {},
   "source": [
    "\n",
    "answer：\n",
    "\n",
    "The least bent surface is given by the following equation:\n",
    "\n",
    "$\n",
    "T(x,y) = a_1 + a_2 x + a_3 y + \\sum_{j=1}^n w_{j} U(| P_j - (x,y) |)\n",
    "$\n",
    "\n",
    "where $P_j$ denotes the $j^{th}$ landmark, $w_i$ is the weight of the basis function $U$ for $j^{th}$ landmark, and $| P_j-(x,y) |$ is the distance between the $j^{th}$ landmark (control point) and a position $(x,y)$.\n",
    "\n",
    "$U$ is the a function based on the distance. In the $2$D case, \n",
    "\n",
    "$\n",
    "\\begin{eqnarray}\n",
    "U(r) & = & r^2 \\log(r^2)\\\\\n",
    "r^2 & = & x^2 + y^2\n",
    "\\end{eqnarray}\n",
    "$\n",
    "\n",
    "\n",
    "$r_{i,j} = |(x_i,y_i)-(x_j,y_j)|$\n",
    "\n"
   ]
  },
  {
   "cell_type": "code",
   "execution_count": 6,
   "metadata": {},
   "outputs": [],
   "source": [
    "def computeU( pi,vi):\n",
    "    size = np.shape(pi)    # Get size of P\n",
    "    n = size[0]            # how many points from P, the row number \n",
    "    r_2 = np.zeros((n,n))  # create r square array,, zeros(())\n",
    "    for i in range (0,n):    \n",
    "        for j in range (0,n):                                              #x^2+y^2 to calculate the distance of points in P\n",
    "            r_2[i][j] = (pi[i][0]-pi[j][0])**2 + (pi[i][1]-pi[j][1])**2    # calculate r square for all points in P\n",
    "                    \n",
    "    U = np.zeros((n,n))    \n",
    "    for i in range (0,n):    \n",
    "        for j in range (0,n):\n",
    "            if r_2[i][j] == 0:    # if r square = 0 copy to U to avoid log(0) error\n",
    "                U[i][j] = 0\n",
    "            else:\n",
    "                U[i][j] = r_2[i][j]*np.log(r_2[i][j])    \n",
    "                # calculate All U even though there are only 2 distance it is easier to construct the full array\n",
    "    return U\n"
   ]
  },
  {
   "cell_type": "code",
   "execution_count": 7,
   "metadata": {},
   "outputs": [
    {
     "name": "stdout",
     "output_type": "stream",
     "text": [
      "[[0.         1.38629436 5.54517744 1.38629436]\n",
      " [1.38629436 0.         1.38629436 5.54517744]\n",
      " [5.54517744 1.38629436 0.         1.38629436]\n",
      " [1.38629436 5.54517744 1.38629436 0.        ]]\n"
     ]
    }
   ],
   "source": [
    "U = computeU(P,V)\n",
    "print(U)"
   ]
  },
  {
   "cell_type": "markdown",
   "metadata": {},
   "source": [
    "**Question 3** ($10$ marks)\n",
    "\n",
    "Based on your implementation for Question 1 and 2, construct the matrix $K$ (page 570 on Bookstein's paper, or consult the class note). The function header should look like this:\n",
    "\n",
    "``` python\n",
    "def genK( P ):\n",
    "```\n",
    "\n",
    "where $P$ is the list of $2$D landmarks of image **A** that you read per Question 1. \n",
    "\n",
    "**(10 marks)** Correct implementation of this function\n",
    "  * This function should determine the number of landmarks based on the size of $P$,\n",
    "  * Uses the function `computeU` to fill in elements of the matrix $K$,\n",
    "  * This functions returns a $2$D numpy array with correct dimension and values,\n",
    "  * Complete and detailed documentation"
   ]
  },
  {
   "cell_type": "markdown",
   "metadata": {},
   "source": [
    "$\n",
    "\\begin{eqnarray}\n",
    "K & = &\\begin{bmatrix} 0 & U(r_{1,2}) & \\cdots & U(r_{1,n}) \\\\\n",
    "U(r_{2,1}) & 0 & \\cdots & U(r_{2,n}) \\\\\n",
    "\\cdots & \\cdots & \\cdots & \\cdots \\\\\n",
    "U(r_{n,1}) & U(r_{n,2}) & \\cdots & 0 \\\\\n",
    "\\end{bmatrix}_{n \\times n}\\\\\n",
    "\\end{eqnarray}\n",
    "$"
   ]
  },
  {
   "cell_type": "code",
   "execution_count": 8,
   "metadata": {},
   "outputs": [],
   "source": [
    "def genK( P ):\n",
    "    # fill K matrix by U\n",
    "    size = np.shape(P)    # Get size of P\n",
    "    n = size[0]    # Get n -> how many points from P\n",
    "    K = np.zeros((n,n))    # create K array\n",
    "    U = computeU(P,V) \n",
    "    for i in range (0,n):\n",
    "        for j in range (0,n):\n",
    "            if i != j:     \n",
    "                K[i][j] = U[i][j]   # fill the rest using U array\n",
    "    return K"
   ]
  },
  {
   "cell_type": "code",
   "execution_count": 9,
   "metadata": {},
   "outputs": [
    {
     "name": "stdout",
     "output_type": "stream",
     "text": [
      "[[0.         1.38629436 5.54517744 1.38629436]\n",
      " [1.38629436 0.         1.38629436 5.54517744]\n",
      " [5.54517744 1.38629436 0.         1.38629436]\n",
      " [1.38629436 5.54517744 1.38629436 0.        ]]\n"
     ]
    }
   ],
   "source": [
    "K = genK(P)\n",
    "print(K)"
   ]
  },
  {
   "cell_type": "markdown",
   "metadata": {},
   "source": [
    "**Question 4** ($10$ marks)\n",
    "\n",
    "Refer to page 570 on Bookstein's paper (or the class notes), construct the system of linear equations and solving them. Define the following $2$ functions:\n",
    "\n",
    "``` python\n",
    "def genL( P ):\n",
    "``` \n",
    "\n",
    "and\n",
    "\n",
    "``` python\n",
    "def solveTPSCoefs( P, V )\n",
    "```\n",
    "\n",
    "where $P$ and $V$ are the landmarks you read from files (per Questions 1).\n",
    "\n",
    "* `genL(P)` constructs the matrix $L$ which comprises of the matrix $K$ and the landmarks $P$.\n",
    "* `solveTPSCoefs` computes the coefficients of the TPS transformation by multiplying the *inverse* of the matrix $L$ to the matrix $Y$, which itself is the landmarks $V$ with *zeros* appended."
   ]
  },
  {
   "cell_type": "markdown",
   "metadata": {},
   "source": [
    "$\n",
    "L = \\left[\n",
    "\\begin{array}{c|c}\n",
    "K & P\\\\\n",
    "\\hline\n",
    "P^{T} & 0\n",
    "\\end{array}\n",
    "\\right]\n",
    "$\n",
    "\n"
   ]
  },
  {
   "cell_type": "code",
   "execution_count": 12,
   "metadata": {},
   "outputs": [],
   "source": [
    "def genL(P):\n",
    "    #create the P matrix with value 1 as the first element \n",
    "    size = np.shape(P)    # Get size of P\n",
    "    rows = size[0]    # Get rows count from P\n",
    "    cols = size[1]    # Get cols count from P\n",
    "    N_P = np.ones((rows,cols+1))    # create new P\n",
    "    for i in range (0,rows):\n",
    "        for j in range (1,cols+1):\n",
    "                N_P[i][j] = P[i][j-1]    # copy rest of P\n",
    "    # create the L matrix            \n",
    "    K = genK(P)\n",
    "    Ksize = np.shape(K)    # Get size of K\n",
    "    L_r = Ksize[0] + cols + 1    # determine rows number for L\n",
    "    L_c = Ksize[1] + cols + 1    # determine col number for L\n",
    "    L = np.zeros((L_r,L_c))    # create empty L array\n",
    "    for i in range (0,Ksize[0]):\n",
    "        for j in range (0,Ksize[1]):\n",
    "            L[i][j] = K[i][j]    # fill K area\n",
    "            \n",
    "    for i in range (Ksize[0],L_r):\n",
    "        for j in range (0,Ksize[1]):\n",
    "            L[i][j] = np.transpose(N_P)[i-Ksize[0]][j]\n",
    "\n",
    "    for i in range (0,Ksize[0]):\n",
    "        for j in range (Ksize[1],L_c):\n",
    "            L[i][j] = N_P[i][j-Ksize[1]]    \n",
    "            \n",
    "    \n",
    "    return L"
   ]
  },
  {
   "cell_type": "code",
   "execution_count": 13,
   "metadata": {},
   "outputs": [
    {
     "name": "stdout",
     "output_type": "stream",
     "text": [
      "[[ 0.          1.38629436  5.54517744  1.38629436  1.          0.\n",
      "   1.        ]\n",
      " [ 1.38629436  0.          1.38629436  5.54517744  1.         -1.\n",
      "   0.        ]\n",
      " [ 5.54517744  1.38629436  0.          1.38629436  1.          0.\n",
      "  -1.        ]\n",
      " [ 1.38629436  5.54517744  1.38629436  0.          1.          1.\n",
      "   0.        ]\n",
      " [ 1.          1.          1.          1.          0.          0.\n",
      "   0.        ]\n",
      " [ 0.         -1.          0.          1.          0.          0.\n",
      "   0.        ]\n",
      " [ 1.          0.         -1.          0.          0.          0.\n",
      "   0.        ]]\n"
     ]
    }
   ],
   "source": [
    "L = genL(P)\n",
    "print(L)"
   ]
  },
  {
   "cell_type": "markdown",
   "metadata": {},
   "source": [
    "#### Solve for $a$ and $b$\n",
    "\n",
    "$ \n",
    "\\left[ \n",
    "\\begin{array}{c}\n",
    "b \\\\\n",
    "a\\end{array}\n",
    "\\right] =  \n",
    "\\left[\n",
    "\\begin{array}{cc}\n",
    "K & P\\\\\n",
    "P^{T} & 0\n",
    "\\end{array}\n",
    "\\right]^{-1}  \n",
    "\\left[\n",
    "\\begin{array}{c}\n",
    "V\\\\\n",
    "0\n",
    "\\end{array}\n",
    "\\right]\n",
    "$"
   ]
  },
  {
   "cell_type": "code",
   "execution_count": 14,
   "metadata": {},
   "outputs": [],
   "source": [
    "def solveTPSCoefs(P,V):\n",
    "    size = np.shape(V)    # Get size of V\n",
    "    rows =size[0]    # Get rows count from V\n",
    "    cols =size[1]    # Get cols count from V\n",
    "    L = genL(P)\n",
    "    L_size = np.shape(L)    # Get size of L\n",
    "    c = L_size[1]    # Get cols count from L\n",
    "    V_0 = np.zeros((c,cols))    # create V/0 array\n",
    "    for i in range (0,rows):\n",
    "        for j in range (0,cols):     # the upper 4 row, fill with V\n",
    "            V_0[i][j] = V[i][j]    \n",
    "    for i in range (rows,c):\n",
    "        for j in range (0,cols):   # the bottom 3 row\n",
    "            V_0[i][j] = 0    # fill zeros\n",
    "\n",
    "    b_a = np.matmul(np.linalg.inv(L),V_0)   #  inverse L, and multiple V/0 array\n",
    "    b_a = np.round((b_a), decimals=5)    # round to 5 decimal\n",
    "    return b_a"
   ]
  },
  {
   "cell_type": "code",
   "execution_count": 15,
   "metadata": {},
   "outputs": [
    {
     "name": "stdout",
     "output_type": "stream",
     "text": [
      "[[ 0.      -0.09017]\n",
      " [ 0.       0.09017]\n",
      " [ 0.      -0.09017]\n",
      " [ 0.       0.09017]\n",
      " [ 0.      -0.     ]\n",
      " [ 1.      -0.     ]\n",
      " [ 0.       1.     ]]\n"
     ]
    }
   ],
   "source": [
    "Coef = solveTPSCoefs(P,V)  ## b / a: b 4 rows, a 3 rows\n",
    "print(Coef)"
   ]
  },
  {
   "cell_type": "markdown",
   "metadata": {},
   "source": [
    "## Validate your implementation\n",
    "\n",
    "A sample `P.txt` and `V.txt` are provided, corresponding to Figure 2 of Bookstein's paper (and the class note). You can verify your implementation for Question 1-4 by referring to Page 571 of Bookstein's paper. "
   ]
  },
  {
   "cell_type": "markdown",
   "metadata": {},
   "source": [
    "**Question 5** ($20$ marks)\n",
    "\n",
    "The TPS coefficients you just solved is encoded in a matrix of size $(n+3) \\times 2$, where $n$ is the number of landmark pairs.. The first $(n+3) \\times 1$ coefficients correspond to the deformation applied in the $x-$axis, and the second $(n+3) \\times 1$ coefficients correspond to the deformation applined in the $y-$axis.  For a given pixel location $(x,y)$, implement a function that applies TPS deformation:\n",
    "\n",
    "``` python\n",
    "def applyTPSDeformation( P, V, pixelLocation )\n",
    "```\n",
    "\n",
    "where $P$ and $V$ are homologous landmarks, and\n",
    "\n",
    "$\n",
    "pixelLocation = \\begin{bmatrix}x\\\\y\\end{bmatrix}\n",
    "$\n",
    "\n",
    "is the input pixel location. The output of this function is\n",
    "\n",
    "$\n",
    "newPixelLocation = \\begin{bmatrix}x'\\\\y'\\end{bmatrix}\n",
    "$\n",
    "\n",
    "Suppose we have $4$ new pixels:\n",
    "\n",
    "$\n",
    "newPixels = \\begin{bmatrix}100&0\\\\\n",
    "-100&0\\\\\n",
    "0&100\\\\\n",
    "0&-100\\end{bmatrix}\n",
    "$\n",
    "\n",
    "* ($2$ marks) Where will these $4$ pixels be transformed to?\n",
    "* ($8$ marks) Have they been moved at all?  Is this what you expected?\n",
    "* ($10$ marks) for implementation/code documentation.\n",
    "\n",
    "\n",
    "## answer:\n",
    "1) from the result, the four pixel will be transformed to [100 -0.25000433] [-100 0.25000433],[0 99.74999567][0 -99.74999567]\n",
    "\n",
    "2) The points have been moved to location shown above. The movement is not exactly the same as P->V because they contains not only affine transformation, but also has Deformable Transformation (TPS), which has different effect on different points. \n",
    "\n",
    "3) the code is below"
   ]
  },
  {
   "cell_type": "markdown",
   "metadata": {},
   "source": [
    "\n",
    "(in $2$D)\n",
    "$\n",
    "\\begin{eqnarray}\n",
    "x' & = & a_{1,1} + a_{2,1} x + a_{3,1} y + \\sum_{j=1}^n w_{j,1} U(|(x_j,y_j)-(x,y)|)\\\\\n",
    "y' & = & a_{1,2} + a_{2,2} x + a_{3,2} y + \\sum_{j=1}^n w_{j,2} U(|(x_j,y_j)-(x,y)|)\\\\\n",
    "\\end{eqnarray}\n",
    "$"
   ]
  },
  {
   "cell_type": "code",
   "execution_count": 16,
   "metadata": {},
   "outputs": [],
   "source": [
    "def applyTPSDeformation( P, V, pixelLocation):\n",
    "    Coef = solveTPSCoefs(P,V)\n",
    "    x = pixelLocation[:,0]   # all x of the newpixel\n",
    "    y = pixelLocation[:,1]   # all y of the newpixel\n",
    "    n = Coef.shape[0] - 3     # get the length of w, \n",
    "    U = computeU(P,pixelLocation)\n",
    "    xsum = 0\n",
    "    ysum = 0\n",
    "    #  Deformable Transformation (TPS) component\n",
    "    #𝑤j is the weight of the basis function contributed by a landmark 𝑗\n",
    "    for i in range(0,n):   # U[i]=U[i][j] = r_2[i][j]*np.log(r_2[i][j]) \n",
    "        xsum += Coef[i][0]*U[i]    # calculate accumulated w*U for x, the first four\n",
    "        ysum += Coef[i][1]*U[i]    # calculate accumulated w*U for y\n",
    "        \n",
    "    #  Affine Transformation component a_i + a_2 x + a_3 y\n",
    "    n_x = Coef[n][0]+Coef[n+1][0]*x+Coef[n+2][0]*y + xsum    # calculate new x the last three\n",
    "    n_y = Coef[n][1]+Coef[n+1][1]*x+Coef[n+2][1]*y + ysum    # calculate new y\n",
    "    n_xy = np.array([n_x,n_y])\n",
    "    \n",
    "    return n_xy"
   ]
  },
  {
   "cell_type": "code",
   "execution_count": 17,
   "metadata": {},
   "outputs": [
    {
     "name": "stdout",
     "output_type": "stream",
     "text": [
      "[100.          -0.25000433]\n",
      "[-100.            0.25000433]\n",
      "[ 0.         99.74999567]\n",
      "[  0.         -99.74999567]\n"
     ]
    }
   ],
   "source": [
    "pixelLocation = np.array([[100, 0],[-100, 0],[0, 100],[0, -100]])\n",
    "new_pixel = applyTPSDeformation(P,V,pixelLocation)\n",
    "print(new_pixel[:,0])\n",
    "print(new_pixel[:,1])\n",
    "print(new_pixel[:,2])\n",
    "print(new_pixel[:,3])"
   ]
  },
  {
   "cell_type": "markdown",
   "metadata": {},
   "source": [
    "**Question 6** ($20$ marks)\n",
    "\n",
    "Create $2$ text files corresponding to the landmarks as shown in Figure 4 of Bookstein's paper (numerical values are given on page 572). Use your solution for Question 4 to generate TPS coefficients and verify that you are getting the same answer to Bookstein's example.\n",
    "\n",
    "(**hint**: One of the coefficients was mis-typed in the paper so don't be too concerned if the numbers don't match up exactly)\n",
    "\n",
    "Create a matrix $A_{2\\times 2}$ corresponding to the linear term of the affine transformation coefficients. Perform [Singular Value Decomposition](https://docs.scipy.org/doc/numpy-1.14.0/reference/generated/numpy.linalg.svd.html) on $A$ ($A = U S V^{H}$) decomposes the affine transformation into a rotation, followed by scaling, followed by another rotation. The *singular values* $S$ correspond to the amount of scaling, and $U$ and $V^{H}$ are rotations.\n",
    "\n",
    "**hint**: If the determine of $U$ and $V^{H}$ is $-1$, a flip is performed twice!  i.e. SVD solution is **not** unique. To obtain proper rotation, apply the following (un)-flip:\n",
    "\n",
    "$\n",
    "\\begin{eqnarray}\n",
    "U & = & \\begin{bmatrix}-1 & 0 \\\\0&1\\end{bmatrix} U\\\\\n",
    "V^{H} & = & \\begin{bmatrix}-1 & 0 \\\\0&1\\end{bmatrix} V^{H}\n",
    "\\end{eqnarray}\n",
    "$"
   ]
  },
  {
   "cell_type": "markdown",
   "metadata": {},
   "source": [
    "(**Marks**)\n",
    "* ($5$ marks) What is the amount of rotations, in degrees, does $U$ and $V^{H}$ represent?\n",
    "* ($5$ marks) What are the anisotropic scaling factors?\n",
    "* ($10$ marks) In your own words, describe what the affine transformation $A$ does as part of the TPS transformation. In your discussion, elaborate how landmarks are moved/transformed.\n",
    "\n",
    "\n",
    "## answer:\n",
    "1) Degree of U: -53.33; Degree of VH: -44.89 \n",
    "\n",
    "2) Scaling factor: 1.0719, 0.7441\n",
    "\n",
    "3) From the equation, the first matrix is VH, then S, then U. The affine transformation A is in a direction 44.89 degree clockwise, and extension by a factor 1.0719 in x direction compression by 0.7441 in the y direction of the original coordinate, then followed by a rotation of another 8.45 degree clockwise."
   ]
  },
  {
   "cell_type": "code",
   "execution_count": 18,
   "metadata": {},
   "outputs": [
    {
     "name": "stdout",
     "output_type": "stream",
     "text": [
      "[[-0.03803  0.04244]\n",
      " [ 0.02319  0.01592]\n",
      " [-0.02476  0.02881]\n",
      " [ 0.07978 -0.04542]\n",
      " [-0.04018 -0.04175]\n",
      " [ 1.355   -2.94616]\n",
      " [ 0.87473 -0.29553]\n",
      " [-0.02886  0.92164]]\n"
     ]
    }
   ],
   "source": [
    "P2 = readLandmarksFromFile('Pnew.txt')\n",
    "V2 = readLandmarksFromFile('Vnew.txt')\n",
    "Coef2 = solveTPSCoefs(P2,V2)\n",
    "print(Coef2)"
   ]
  },
  {
   "cell_type": "code",
   "execution_count": 19,
   "metadata": {},
   "outputs": [
    {
     "name": "stdout",
     "output_type": "stream",
     "text": [
      "A [[ 0.87473 -0.02886]\n",
      " [-0.29553  0.92164]]\n",
      "U: [[-0.5971188   0.80215281]\n",
      " [ 0.80215281  0.5971188 ]]\n",
      "S: [1.07190995 0.74414568]\n",
      "VH: [[-0.70843446  0.7057766 ]\n",
      " [ 0.7057766   0.70843446]]\n"
     ]
    },
    {
     "data": {
      "text/plain": [
       "-1.0"
      ]
     },
     "execution_count": 19,
     "metadata": {},
     "output_type": "execute_result"
    }
   ],
   "source": [
    "#linear term of the affine transformation coefficients\n",
    "# find the x, and y for matrix A\n",
    "A = np.array([[Coef2[6][0], Coef2[7][0]], [Coef2[6][1], Coef2[7][1]]])\n",
    "U, S, VH = np.linalg.svd(A, full_matrices=True)    # perform singular value decomposition\n",
    "print('A',A)\n",
    "print('U:',U)\n",
    "print('S:',S) # scaling factor \n",
    "print('VH:',VH)\n",
    "np.linalg.det(U) # determine is -1, therefore, need to multiple -1\n",
    "np.linalg.det(VH) "
   ]
  },
  {
   "cell_type": "code",
   "execution_count": 20,
   "metadata": {},
   "outputs": [
    {
     "name": "stdout",
     "output_type": "stream",
     "text": [
      "U: [[ 0.5971188  -0.80215281]\n",
      " [ 0.80215281  0.5971188 ]]\n",
      "VH: [[ 0.70843446 -0.7057766 ]\n",
      " [ 0.7057766   0.70843446]]\n",
      "-53.33617538649806\n",
      "-44.892318856951405\n",
      "-8.443856529546657\n"
     ]
    }
   ],
   "source": [
    "T = np.array([[-1,0],[0,1]])\n",
    "U2 = np.matmul(T, U)    # flip U back, mutiple\n",
    "VH2 = np.matmul(T, VH)    # flip VH back, multiple\n",
    "print('U:',U2)\n",
    "print('VH:',VH2)\n",
    "Urad=np.arcsin(U2[0,1])    #Find the U rotation in rads \n",
    "Udeg=Urad*180/np.pi     #Find U rotation in degrees\n",
    "print(Udeg)\n",
    "VHrad=np.arcsin(VH2[0,1]) #find the VH rotation in rads \n",
    "VHdeg=VHrad*180/np.pi   #Find the VH rotation in degrees \n",
    "print(VHdeg)\n",
    "D2=Udeg-VHdeg    #second rotation\n",
    "print(D2)"
   ]
  },
  {
   "cell_type": "code",
   "execution_count": null,
   "metadata": {},
   "outputs": [],
   "source": []
  },
  {
   "cell_type": "code",
   "execution_count": null,
   "metadata": {},
   "outputs": [],
   "source": []
  },
  {
   "cell_type": "code",
   "execution_count": null,
   "metadata": {},
   "outputs": [],
   "source": []
  },
  {
   "cell_type": "code",
   "execution_count": null,
   "metadata": {},
   "outputs": [],
   "source": []
  },
  {
   "cell_type": "code",
   "execution_count": null,
   "metadata": {},
   "outputs": [],
   "source": []
  }
 ],
 "metadata": {
  "kernelspec": {
   "display_name": "Python 3",
   "language": "python",
   "name": "python3"
  },
  "language_info": {
   "codemirror_mode": {
    "name": "ipython",
    "version": 3
   },
   "file_extension": ".py",
   "mimetype": "text/x-python",
   "name": "python",
   "nbconvert_exporter": "python",
   "pygments_lexer": "ipython3",
   "version": "3.6.7"
  }
 },
 "nbformat": 4,
 "nbformat_minor": 2
}
