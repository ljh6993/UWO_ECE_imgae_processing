{
 "cells": [
  {
   "cell_type": "markdown",
   "metadata": {},
   "source": [
    "<h1 align=\"center\">ECE 4438B Advanced Image Processing and Analysis</h1>\n",
    "<h2 align=\"center\"> Assignment #4</h2>\n",
    "<h3 align=\"center\"> Yanyu Mu, [ymu2@uwo.ca](mailto:ymu2@uwo.ca?subject=Assignment #4)</h3>\n",
    "<h4 align=\"center\"> Department of Electrical and Computer Engineering</h4>\n",
    "<h4 align=\"center\"> Western University</h4>\n",
    "<h4 align=\"center\"> April 21, 2018</h4>\n",
    "<h4 align=\"center\"> Submitted to Elvis C.S. Chen</h4>"
   ]
  },
  {
   "cell_type": "markdown",
   "metadata": {},
   "source": [
    "**Question 1** ($5$ marks)"
   ]
  },
  {
   "cell_type": "code",
   "execution_count": 1,
   "metadata": {},
   "outputs": [],
   "source": [
    "import numpy as np\n",
    "import SimpleITK as sitk"
   ]
  },
  {
   "cell_type": "code",
   "execution_count": 2,
   "metadata": {},
   "outputs": [],
   "source": [
    "def readLandmarksFromFile(fname):\n",
    "    array = np.loadtxt(fname)\n",
    "    return array"
   ]
  },
  {
   "cell_type": "code",
   "execution_count": 3,
   "metadata": {
    "scrolled": true
   },
   "outputs": [
    {
     "ename": "OSError",
     "evalue": "P.txt not found.",
     "output_type": "error",
     "traceback": [
      "\u001b[0;31m---------------------------------------------------------------------------\u001b[0m",
      "\u001b[0;31mOSError\u001b[0m                                   Traceback (most recent call last)",
      "\u001b[0;32m<ipython-input-3-42df1c372aeb>\u001b[0m in \u001b[0;36m<module>\u001b[0;34m\u001b[0m\n\u001b[0;32m----> 1\u001b[0;31m \u001b[0mP\u001b[0m \u001b[0;34m=\u001b[0m \u001b[0mreadLandmarksFromFile\u001b[0m\u001b[0;34m(\u001b[0m\u001b[0;34m'P.txt'\u001b[0m\u001b[0;34m)\u001b[0m\u001b[0;34m\u001b[0m\u001b[0;34m\u001b[0m\u001b[0m\n\u001b[0m\u001b[1;32m      2\u001b[0m \u001b[0mV\u001b[0m \u001b[0;34m=\u001b[0m \u001b[0mreadLandmarksFromFile\u001b[0m\u001b[0;34m(\u001b[0m\u001b[0;34m'v.txt'\u001b[0m\u001b[0;34m)\u001b[0m\u001b[0;34m\u001b[0m\u001b[0;34m\u001b[0m\u001b[0m\n\u001b[1;32m      3\u001b[0m \u001b[0mprint\u001b[0m\u001b[0;34m(\u001b[0m\u001b[0mP\u001b[0m\u001b[0;34m)\u001b[0m\u001b[0;34m\u001b[0m\u001b[0;34m\u001b[0m\u001b[0m\n\u001b[1;32m      4\u001b[0m \u001b[0mprint\u001b[0m\u001b[0;34m(\u001b[0m\u001b[0mV\u001b[0m\u001b[0;34m)\u001b[0m\u001b[0;34m\u001b[0m\u001b[0;34m\u001b[0m\u001b[0m\n",
      "\u001b[0;32m<ipython-input-2-054c9fe02e19>\u001b[0m in \u001b[0;36mreadLandmarksFromFile\u001b[0;34m(fname)\u001b[0m\n\u001b[1;32m      1\u001b[0m \u001b[0;32mdef\u001b[0m \u001b[0mreadLandmarksFromFile\u001b[0m\u001b[0;34m(\u001b[0m\u001b[0mfname\u001b[0m\u001b[0;34m)\u001b[0m\u001b[0;34m:\u001b[0m\u001b[0;34m\u001b[0m\u001b[0;34m\u001b[0m\u001b[0m\n\u001b[0;32m----> 2\u001b[0;31m     \u001b[0marray\u001b[0m \u001b[0;34m=\u001b[0m \u001b[0mnp\u001b[0m\u001b[0;34m.\u001b[0m\u001b[0mloadtxt\u001b[0m\u001b[0;34m(\u001b[0m\u001b[0mfname\u001b[0m\u001b[0;34m)\u001b[0m\u001b[0;34m\u001b[0m\u001b[0;34m\u001b[0m\u001b[0m\n\u001b[0m\u001b[1;32m      3\u001b[0m     \u001b[0;32mreturn\u001b[0m \u001b[0marray\u001b[0m\u001b[0;34m\u001b[0m\u001b[0;34m\u001b[0m\u001b[0m\n",
      "\u001b[0;32m~/anaconda3/lib/python3.6/site-packages/numpy/lib/npyio.py\u001b[0m in \u001b[0;36mloadtxt\u001b[0;34m(fname, dtype, comments, delimiter, converters, skiprows, usecols, unpack, ndmin, encoding)\u001b[0m\n\u001b[1;32m    924\u001b[0m             \u001b[0mfname\u001b[0m \u001b[0;34m=\u001b[0m \u001b[0mstr\u001b[0m\u001b[0;34m(\u001b[0m\u001b[0mfname\u001b[0m\u001b[0;34m)\u001b[0m\u001b[0;34m\u001b[0m\u001b[0;34m\u001b[0m\u001b[0m\n\u001b[1;32m    925\u001b[0m         \u001b[0;32mif\u001b[0m \u001b[0m_is_string_like\u001b[0m\u001b[0;34m(\u001b[0m\u001b[0mfname\u001b[0m\u001b[0;34m)\u001b[0m\u001b[0;34m:\u001b[0m\u001b[0;34m\u001b[0m\u001b[0;34m\u001b[0m\u001b[0m\n\u001b[0;32m--> 926\u001b[0;31m             \u001b[0mfh\u001b[0m \u001b[0;34m=\u001b[0m \u001b[0mnp\u001b[0m\u001b[0;34m.\u001b[0m\u001b[0mlib\u001b[0m\u001b[0;34m.\u001b[0m\u001b[0m_datasource\u001b[0m\u001b[0;34m.\u001b[0m\u001b[0mopen\u001b[0m\u001b[0;34m(\u001b[0m\u001b[0mfname\u001b[0m\u001b[0;34m,\u001b[0m \u001b[0;34m'rt'\u001b[0m\u001b[0;34m,\u001b[0m \u001b[0mencoding\u001b[0m\u001b[0;34m=\u001b[0m\u001b[0mencoding\u001b[0m\u001b[0;34m)\u001b[0m\u001b[0;34m\u001b[0m\u001b[0;34m\u001b[0m\u001b[0m\n\u001b[0m\u001b[1;32m    927\u001b[0m             \u001b[0mfencoding\u001b[0m \u001b[0;34m=\u001b[0m \u001b[0mgetattr\u001b[0m\u001b[0;34m(\u001b[0m\u001b[0mfh\u001b[0m\u001b[0;34m,\u001b[0m \u001b[0;34m'encoding'\u001b[0m\u001b[0;34m,\u001b[0m \u001b[0;34m'latin1'\u001b[0m\u001b[0;34m)\u001b[0m\u001b[0;34m\u001b[0m\u001b[0;34m\u001b[0m\u001b[0m\n\u001b[1;32m    928\u001b[0m             \u001b[0mfh\u001b[0m \u001b[0;34m=\u001b[0m \u001b[0miter\u001b[0m\u001b[0;34m(\u001b[0m\u001b[0mfh\u001b[0m\u001b[0;34m)\u001b[0m\u001b[0;34m\u001b[0m\u001b[0;34m\u001b[0m\u001b[0m\n",
      "\u001b[0;32m~/anaconda3/lib/python3.6/site-packages/numpy/lib/_datasource.py\u001b[0m in \u001b[0;36mopen\u001b[0;34m(path, mode, destpath, encoding, newline)\u001b[0m\n\u001b[1;32m    260\u001b[0m \u001b[0;34m\u001b[0m\u001b[0m\n\u001b[1;32m    261\u001b[0m     \u001b[0mds\u001b[0m \u001b[0;34m=\u001b[0m \u001b[0mDataSource\u001b[0m\u001b[0;34m(\u001b[0m\u001b[0mdestpath\u001b[0m\u001b[0;34m)\u001b[0m\u001b[0;34m\u001b[0m\u001b[0;34m\u001b[0m\u001b[0m\n\u001b[0;32m--> 262\u001b[0;31m     \u001b[0;32mreturn\u001b[0m \u001b[0mds\u001b[0m\u001b[0;34m.\u001b[0m\u001b[0mopen\u001b[0m\u001b[0;34m(\u001b[0m\u001b[0mpath\u001b[0m\u001b[0;34m,\u001b[0m \u001b[0mmode\u001b[0m\u001b[0;34m,\u001b[0m \u001b[0mencoding\u001b[0m\u001b[0;34m=\u001b[0m\u001b[0mencoding\u001b[0m\u001b[0;34m,\u001b[0m \u001b[0mnewline\u001b[0m\u001b[0;34m=\u001b[0m\u001b[0mnewline\u001b[0m\u001b[0;34m)\u001b[0m\u001b[0;34m\u001b[0m\u001b[0;34m\u001b[0m\u001b[0m\n\u001b[0m\u001b[1;32m    263\u001b[0m \u001b[0;34m\u001b[0m\u001b[0m\n\u001b[1;32m    264\u001b[0m \u001b[0;34m\u001b[0m\u001b[0m\n",
      "\u001b[0;32m~/anaconda3/lib/python3.6/site-packages/numpy/lib/_datasource.py\u001b[0m in \u001b[0;36mopen\u001b[0;34m(self, path, mode, encoding, newline)\u001b[0m\n\u001b[1;32m    616\u001b[0m                                       encoding=encoding, newline=newline)\n\u001b[1;32m    617\u001b[0m         \u001b[0;32melse\u001b[0m\u001b[0;34m:\u001b[0m\u001b[0;34m\u001b[0m\u001b[0;34m\u001b[0m\u001b[0m\n\u001b[0;32m--> 618\u001b[0;31m             \u001b[0;32mraise\u001b[0m \u001b[0mIOError\u001b[0m\u001b[0;34m(\u001b[0m\u001b[0;34m\"%s not found.\"\u001b[0m \u001b[0;34m%\u001b[0m \u001b[0mpath\u001b[0m\u001b[0;34m)\u001b[0m\u001b[0;34m\u001b[0m\u001b[0;34m\u001b[0m\u001b[0m\n\u001b[0m\u001b[1;32m    619\u001b[0m \u001b[0;34m\u001b[0m\u001b[0m\n\u001b[1;32m    620\u001b[0m \u001b[0;34m\u001b[0m\u001b[0m\n",
      "\u001b[0;31mOSError\u001b[0m: P.txt not found."
     ]
    }
   ],
   "source": [
    "P = readLandmarksFromFile('P.txt')\n",
    "V = readLandmarksFromFile('v.txt')\n",
    "print(P)\n",
    "print(V)"
   ]
  },
  {
   "cell_type": "markdown",
   "metadata": {},
   "source": [
    "**Question 2** ($10$ marks)"
   ]
  },
  {
   "cell_type": "markdown",
   "metadata": {},
   "source": [
    "$\n",
    "\\begin{eqnarray}\n",
    "U(r) & = & r^2 \\log(r^2)\\\\\n",
    "r^2 & = & x^2 + y^2\n",
    "\\end{eqnarray}\n",
    "$"
   ]
  },
  {
   "cell_type": "code",
   "execution_count": null,
   "metadata": {},
   "outputs": [],
   "source": [
    "def computeU (pi,vi):\n",
    "    size = np.shape(pi)    # Get size of P\n",
    "    n = size[0]    # Get n -> how many points from P\n",
    "    r_2 = np.zeros((n,n))    # create r square array\n",
    "    for i in range (0,n):\n",
    "        for j in range (0,n):\n",
    "            r_2[i][j] = (pi[i][0]-pi[j][0])**2 + (pi[i][1]-pi[j][1])**2    # calculate r square for all points in P\n",
    "            \n",
    "    U = np.zeros((n,n))    # create U array\n",
    "    for i in range (0,n):    \n",
    "        for j in range (0,n):\n",
    "            if r_2[i][j] == 0:    # if r square = 0 copy to U to avoid log(0) error\n",
    "                U[i][j] = 0\n",
    "            else:\n",
    "                U[i][j] = r_2[i][j]*np.log(r_2[i][j])    \n",
    "                # calculate All U even though there are only 2 distance it is easier to construct the full array\n",
    "    return U"
   ]
  },
  {
   "cell_type": "code",
   "execution_count": null,
   "metadata": {},
   "outputs": [],
   "source": [
    "U = computeU(P,V)\n",
    "print(U)"
   ]
  },
  {
   "cell_type": "markdown",
   "metadata": {},
   "source": [
    "**Question 3** ($10$ marks)"
   ]
  },
  {
   "cell_type": "markdown",
   "metadata": {},
   "source": [
    "$\n",
    "\\begin{eqnarray}\n",
    "K & = &\\begin{bmatrix} 0 & U(r_{1,2}) & \\cdots & U(r_{1,n}) \\\\\n",
    "U(r_{2,1}) & 0 & \\cdots & U(r_{2,n}) \\\\\n",
    "\\cdots & \\cdots & \\cdots & \\cdots \\\\\n",
    "U(r_{n,1}) & U(r_{n,2}) & \\cdots & 0 \\\\\n",
    "\\end{bmatrix}_{n \\times n}\\\\\n",
    "\\end{eqnarray}\n",
    "$"
   ]
  },
  {
   "cell_type": "code",
   "execution_count": null,
   "metadata": {},
   "outputs": [],
   "source": [
    "def genK( P ):\n",
    "    size = np.shape(P)    # Get size of P\n",
    "    n = size[0]    # Get n -> how many points from P\n",
    "    K = np.zeros((n,n))    # create K array\n",
    "    for i in range (0,n):\n",
    "        for j in range (0,n):\n",
    "            if i != j:     # check the zero location\n",
    "                U = computeU(P,V) \n",
    "                K[i][j] = U[i][j]   # fill the rest using U array\n",
    "            else:\n",
    "                K[i][j] = 0    # fill zero values\n",
    "    return K"
   ]
  },
  {
   "cell_type": "code",
   "execution_count": null,
   "metadata": {},
   "outputs": [],
   "source": [
    "K = genK(P)\n",
    "print(K)"
   ]
  },
  {
   "cell_type": "markdown",
   "metadata": {},
   "source": [
    "**Question 4** ($10$ marks)"
   ]
  },
  {
   "cell_type": "markdown",
   "metadata": {},
   "source": [
    "$\n",
    "L = \\left[\n",
    "\\begin{array}{c|c}\n",
    "K & P\\\\\n",
    "\\hline\n",
    "P^{T} & 0\n",
    "\\end{array}\n",
    "\\right]\n",
    "$"
   ]
  },
  {
   "cell_type": "code",
   "execution_count": null,
   "metadata": {},
   "outputs": [],
   "source": [
    "def genL( P ):\n",
    "    P_size = np.shape(P)    # Get size of P\n",
    "    rows = P_size[0]    # Get rows count from P\n",
    "    cols = P_size[1]    # Get cols count from P\n",
    "    N_P = np.zeros((rows,cols+1))    # create new P\n",
    "    for i in range (0,rows):\n",
    "        for j in range (0,cols+1):\n",
    "            if j == 0:\n",
    "                N_P[i][j] = 1    # fill new P first col with 1\n",
    "            else:\n",
    "                N_P[i][j] = P[i][j-1]    # copy rest of P\n",
    "                \n",
    "    K = genK(P)\n",
    "    K_size = np.shape(K)    # Get size of K\n",
    "    L_r = K_size[0] + cols + 1    # determine rows number for L\n",
    "    L_c = K_size[1] + cols + 1    # determine col number for L\n",
    "    L = np.zeros((L_r,L_c))    # create empty L array\n",
    "    for i in range (0,K_size[0]):\n",
    "        for j in range (0,K_size[1]):\n",
    "            L[i][j] = K[i][j]    # fill K area\n",
    "            \n",
    "    for i in range (K_size[0],L_r):\n",
    "        for j in range (0,K_size[1]):\n",
    "            L[i][j] = np.transpose(N_P)[i-K_size[0]][j]    # fill transpose P area\n",
    "\n",
    "    for i in range (0,K_size[0]):\n",
    "        for j in range (K_size[1],L_c):\n",
    "            L[i][j] = N_P[i][j-K_size[1]]    # fill P area\n",
    "            \n",
    "    \n",
    "    return L\n",
    "    "
   ]
  },
  {
   "cell_type": "code",
   "execution_count": null,
   "metadata": {},
   "outputs": [],
   "source": [
    "L = genL(P)\n",
    "print(L)"
   ]
  },
  {
   "cell_type": "code",
   "execution_count": null,
   "metadata": {},
   "outputs": [],
   "source": [
    "def solveTPSCoefs(P,V):\n",
    "    V_size = np.shape(V)    # Get size of V\n",
    "    rows = V_size[0]    # Get rows count from V\n",
    "    cols = V_size[1]    # Get cols count from V\n",
    "    L = genL(P)\n",
    "    L_shape = np.shape(L)    # Get size of L\n",
    "    c = L_shape[1]    # Get cols count from L\n",
    "    V_0 = np.zeros((c,cols))    # create V/0 array\n",
    "    for i in range (0,rows):\n",
    "        for j in range (0,cols):\n",
    "            V_0[i][j] = V[i][j]    # fill V array\n",
    "    for i in range (rows,c):\n",
    "        for j in range (0,cols):\n",
    "            V_0[i][j] = 0    # fill zeros\n",
    "\n",
    "    b_a = np.matmul(np.linalg.inv(L),V_0)    #  inverse L, and multiple V/0 array\n",
    "    b_a = np.round((b_a), decimals=3)    # round to 3 decimal\n",
    "    return b_a"
   ]
  },
  {
   "cell_type": "code",
   "execution_count": null,
   "metadata": {},
   "outputs": [],
   "source": [
    "coef = solveTPSCoefs(P,V)\n",
    "print(coef)"
   ]
  },
  {
   "cell_type": "markdown",
   "metadata": {},
   "source": [
    "**Question 5** ($20$ marks)"
   ]
  },
  {
   "cell_type": "markdown",
   "metadata": {},
   "source": [
    "$\n",
    "\\begin{eqnarray}\n",
    "x' & = & a_{1,1} + a_{2,1} x + a_{3,1} y + \\sum_{j=1}^n w_{j,1} U(|(x_j,y_j,z_j)-(x,y,z)|)\\\\\n",
    "y' & = & a_{1,2} + a_{2,2} x + a_{3,2} y + \\sum_{j=1}^n w_{j,2} U(|(x_j,y_j,z_j)-(x,y,z)|)\\\\\n",
    "\\end{eqnarray}\n",
    "$\n",
    "\n",
    "$\n",
    "w(x,y) = \\sum_{j} w_j r_j^2 \\log (r_j^2)\n",
    "$\n",
    "\n"
   ]
  },
  {
   "cell_type": "code",
   "execution_count": 5,
   "metadata": {},
   "outputs": [],
   "source": [
    "def applyTPSDeformation( P, V, pixelLocation ):\n",
    "    Coef = solveTPSCoefs(P,V)\n",
    "    x = pixelLocation[:,0]\n",
    "    y = pixelLocation[:,1]\n",
    "    n = Coef.shape[0] - 3    # get the length of w\n",
    "    U = np.zeros((n,1))    # create U array\n",
    "    for i in range(0,n):\n",
    "        r_2[i][j] = (P[i][0]-pixelLocation[i][0])**2 + (P[i][1]-pixelLocation[i][1])**2    # calculate r square for all points in P            \n",
    "        U[i] = r_2[i][j]*np.log(r_2[i][j])  # calculate U with r square\n",
    "\n",
    "    xsum = 0\n",
    "    ysum = 0\n",
    "    for i in range(0,n):\n",
    "        xsum += Coef[i][0]*U[i]    # calculate accumulated w*U for x\n",
    "        ysum += Coef[i][1]*U[i]    # calculate accumulated w*U for y\n",
    "    n_x = Coef[n][0]+Coef[n+1][0]*x+Coef[n+2][0]*y + xsum    # calculate new x\n",
    "    n_y = Coef[n][1]+Coef[n+1][1]*x+Coef[n+2][1]*y + ysum    # calculate new y\n",
    "    n_xy = np.array([n_x,n_y])\n",
    " \n",
    "    \n",
    "    \n",
    "    return n_xy"
   ]
  },
  {
   "cell_type": "code",
   "execution_count": 6,
   "metadata": {},
   "outputs": [
    {
     "ename": "NameError",
     "evalue": "name 'P' is not defined",
     "output_type": "error",
     "traceback": [
      "\u001b[0;31m---------------------------------------------------------------------------\u001b[0m",
      "\u001b[0;31mNameError\u001b[0m                                 Traceback (most recent call last)",
      "\u001b[0;32m<ipython-input-6-96440fef2a71>\u001b[0m in \u001b[0;36m<module>\u001b[0;34m\u001b[0m\n\u001b[1;32m      1\u001b[0m \u001b[0mpixelLocation\u001b[0m \u001b[0;34m=\u001b[0m \u001b[0mnp\u001b[0m\u001b[0;34m.\u001b[0m\u001b[0marray\u001b[0m\u001b[0;34m(\u001b[0m\u001b[0;34m[\u001b[0m\u001b[0;34m[\u001b[0m\u001b[0;36m100\u001b[0m\u001b[0;34m,\u001b[0m \u001b[0;36m0\u001b[0m\u001b[0;34m]\u001b[0m\u001b[0;34m,\u001b[0m\u001b[0;34m[\u001b[0m\u001b[0;34m-\u001b[0m\u001b[0;36m100\u001b[0m\u001b[0;34m,\u001b[0m \u001b[0;36m0\u001b[0m\u001b[0;34m]\u001b[0m\u001b[0;34m,\u001b[0m\u001b[0;34m[\u001b[0m\u001b[0;36m0\u001b[0m\u001b[0;34m,\u001b[0m \u001b[0;36m100\u001b[0m\u001b[0;34m]\u001b[0m\u001b[0;34m,\u001b[0m\u001b[0;34m[\u001b[0m\u001b[0;36m0\u001b[0m\u001b[0;34m,\u001b[0m \u001b[0;34m-\u001b[0m\u001b[0;36m100\u001b[0m\u001b[0;34m]\u001b[0m\u001b[0;34m]\u001b[0m\u001b[0;34m)\u001b[0m\u001b[0;34m\u001b[0m\u001b[0;34m\u001b[0m\u001b[0m\n\u001b[0;32m----> 2\u001b[0;31m \u001b[0mnew_pixel\u001b[0m \u001b[0;34m=\u001b[0m \u001b[0mapplyTPSDeformation\u001b[0m\u001b[0;34m(\u001b[0m\u001b[0mP\u001b[0m\u001b[0;34m,\u001b[0m\u001b[0mV\u001b[0m\u001b[0;34m,\u001b[0m\u001b[0mpixelLocation\u001b[0m\u001b[0;34m)\u001b[0m\u001b[0;34m\u001b[0m\u001b[0;34m\u001b[0m\u001b[0m\n\u001b[0m\u001b[1;32m      3\u001b[0m \u001b[0mprint\u001b[0m\u001b[0;34m(\u001b[0m\u001b[0mnew_pixel\u001b[0m\u001b[0;34m[\u001b[0m\u001b[0;34m:\u001b[0m\u001b[0;34m,\u001b[0m\u001b[0;36m0\u001b[0m\u001b[0;34m]\u001b[0m\u001b[0;34m)\u001b[0m\u001b[0;34m\u001b[0m\u001b[0;34m\u001b[0m\u001b[0m\n\u001b[1;32m      4\u001b[0m \u001b[0mprint\u001b[0m\u001b[0;34m(\u001b[0m\u001b[0mnew_pixel\u001b[0m\u001b[0;34m[\u001b[0m\u001b[0;34m:\u001b[0m\u001b[0;34m,\u001b[0m\u001b[0;36m1\u001b[0m\u001b[0;34m]\u001b[0m\u001b[0;34m)\u001b[0m\u001b[0;34m\u001b[0m\u001b[0;34m\u001b[0m\u001b[0m\n\u001b[1;32m      5\u001b[0m \u001b[0mprint\u001b[0m\u001b[0;34m(\u001b[0m\u001b[0mnew_pixel\u001b[0m\u001b[0;34m[\u001b[0m\u001b[0;34m:\u001b[0m\u001b[0;34m,\u001b[0m\u001b[0;36m2\u001b[0m\u001b[0;34m]\u001b[0m\u001b[0;34m)\u001b[0m\u001b[0;34m\u001b[0m\u001b[0;34m\u001b[0m\u001b[0m\n",
      "\u001b[0;31mNameError\u001b[0m: name 'P' is not defined"
     ]
    }
   ],
   "source": [
    "pixelLocation = np.array([[100, 0],[-100, 0],[0, 100],[0, -100]])\n",
    "new_pixel = applyTPSDeformation(P,V,pixelLocation)\n",
    "print(new_pixel[:,0])\n",
    "print(new_pixel[:,1])\n",
    "print(new_pixel[:,2])\n",
    "print(new_pixel[:,3])"
   ]
  },
  {
   "cell_type": "markdown",
   "metadata": {},
   "source": [
    "The points have been moved to location shown above. The movement is not exactly the same as P-V because the order of the four points are different."
   ]
  },
  {
   "cell_type": "markdown",
   "metadata": {},
   "source": [
    "**Question 6** ($20$ marks)"
   ]
  },
  {
   "cell_type": "markdown",
   "metadata": {},
   "source": [
    "(**Marks**)\n",
    "* ($5$ marks) What is the amount of rotations, in degrees, does $U$ and $V^{H}$ represent?\n",
    "* ($5$ marks) What are the anisotropic scaling factors?\n",
    "* ($10$ marks) In your own words, describe what the affine transformation $A$ does as part of the TPS transformation. In your discussion, elaborate how landmarks are moved/transformed."
   ]
  },
  {
   "cell_type": "code",
   "execution_count": null,
   "metadata": {},
   "outputs": [],
   "source": [
    "P2 = readLandmarksFromFile('P2.txt')\n",
    "V2 = readLandmarksFromFile('V2.txt')\n",
    "coef2 = solveTPSCoefs(P2,V2)\n",
    "print(coef2)"
   ]
  },
  {
   "cell_type": "code",
   "execution_count": null,
   "metadata": {},
   "outputs": [],
   "source": [
    "A = np.array([[coef2[6][0], coef2[7][0]], [coef2[6][1], coef2[7][1]]])\n",
    "U, S, VH = np.linalg.svd(A, full_matrices=True)    # perform singular value decomposition\n",
    "print('A',A)\n",
    "print('U:',U)\n",
    "print('S:',S)\n",
    "print('VH:',VH)"
   ]
  },
  {
   "cell_type": "code",
   "execution_count": null,
   "metadata": {},
   "outputs": [],
   "source": [
    "np.linalg.det(U)    # check if it's fliped"
   ]
  },
  {
   "cell_type": "code",
   "execution_count": null,
   "metadata": {},
   "outputs": [],
   "source": [
    "np.linalg.det(VH)   # check if it's fliped "
   ]
  },
  {
   "cell_type": "code",
   "execution_count": null,
   "metadata": {},
   "outputs": [],
   "source": [
    "T = np.array([[-1,0],[0,1]])\n",
    "U2 = np.matmul(T, U)    # flip U back\n",
    "VH2 = np.matmul(T, VH)    # flip VH back\n",
    "print('U:',U2)\n",
    "print('VH:',VH2)\n",
    "Urad=np.arctan(U2[0,1]/U2[0,0])    #Find the U rotation in rads \n",
    "Udeg=Urad*180/np.pi     #Find U rotation in degrees\n",
    "print(Udeg)\n",
    "VHrad=np.arctan(VH2[0,1]/VH2[0,0]) #find the VH rotation in rads \n",
    "VHdeg=VHrad*180/np.pi   #Find the VH rotation in degrees \n",
    "print(VHdeg)\n",
    "D2=Udeg-VHdeg    #second rotation\n",
    "print(D2)"
   ]
  },
  {
   "cell_type": "markdown",
   "metadata": {},
   "source": [
    "* Degree of U: -53.33; Degree of VH: -44.89 \n",
    "* Scaling factor: 1.0719, 0.7441\n",
    "* The affine transformation A is extension by a factor 1.0719 in a direction 44.89 degree clockwise of horizontal, and compression by 0.7441 in the perpendicular direction, followed by a rotation of another 8.45 degree clockwise."
   ]
  }
 ],
 "metadata": {
  "kernelspec": {
   "display_name": "Python 3",
   "language": "python",
   "name": "python3"
  },
  "language_info": {
   "codemirror_mode": {
    "name": "ipython",
    "version": 3
   },
   "file_extension": ".py",
   "mimetype": "text/x-python",
   "name": "python",
   "nbconvert_exporter": "python",
   "pygments_lexer": "ipython3",
   "version": "3.6.7"
  }
 },
 "nbformat": 4,
 "nbformat_minor": 2
}
