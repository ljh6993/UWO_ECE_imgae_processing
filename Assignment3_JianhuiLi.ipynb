{
 "cells": [
  {
   "cell_type": "markdown",
   "metadata": {},
   "source": [
    "<h1 align=\"center\">ECE 4438B Advanced Image Processing and Analysis</h1>\n",
    "<h3 align=\"center\">Assignment #3</h3>\n",
    "<h4 align=\"center\">Jianhui Li,  <a href=\"mailto:ljianhui@uwo.ca?subject=Assignment2\">ljianhui@uwo.ca</a></h4>\n",
    "<h4 align=\"center\">Mechatronic Systems Engineering</h4>\n",
    "<h4 align=\"center\">Western University</h4>\n",
    "<h4 align=\"center\">Date of submission: Mar. 25th, 2019</h4>\n",
    "<h4 align=\"center\">Submitted to: Elvis C.S. Chen</h4>"
   ]
  },
  {
   "cell_type": "markdown",
   "metadata": {},
   "source": [
    "### Question 1: **($4$ marks total)**\n",
    "* **($1$ mark)** Based on the information contained in the graphs above, which of the above three image similarity metrics is the most appropriate to this problem?\n",
    "* **($2$ marks)** Why?  Provide at least two justifications for your choices of image similarity metrics,\n",
    "* **($1$ mark)** Which SimpleITK class implements your chosen image similarity metric?"
   ]
  },
  {
   "cell_type": "markdown",
   "metadata": {},
   "source": [
    "    this question is to do horizontal rightward translation to match two images. \n",
    "    From the graphs above, i would choose NMI method to test the image similarity. Because the NMI method gives a clear peak at the black dashed line. Whereas the MSE and NCC don't give the best optimal value. Their minimum and maximum value just near the correct registration value. Besides, the NMI worked better with multi modal image registration and NCC worked better with mono modal. The pixel intensities are different which is bad for MSE. from the graphs,we can also find out that the NMI has a clear peak, and the local optima has more distance from the black dashed line\n",
    "    MattesMutualInformation"
   ]
  },
  {
   "cell_type": "markdown",
   "metadata": {},
   "source": [
    "### Question 2: **($2$ marks total)**\n",
    "* **($1$ mark)** Suppose you were using the MSE image similarity metric and a gradient descent optimizer. Suppose that the user of some other process provided an initialization at the point indicated by the green arrow in the MSE graph (a) above. Will the optimizer definitely converge to the correct answer given by the dashed line?\n",
    "* **($1$ mark)** Why or why not?"
   ]
  },
  {
   "cell_type": "markdown",
   "metadata": {},
   "source": [
    "No, the gradient descent optimizer will stop at the first local minima.(the first red line)"
   ]
  },
  {
   "cell_type": "markdown",
   "metadata": {},
   "source": [
    "### Question 3: **($4$ marks total)**\n",
    "* **($1$ mark)** Suppose you were using the NMI image similarity metric and a grandient ascent optimizer. Suppose that the user or some other process provided an initialization at the point indicated by the green arrow in the NMI graph (c) above. You run the optimizer, and you find that it converges somewhere between the green arrow and the dashed red line in the NMI graph (c) above. What parameter in the optimizer could you tue to encourage it to converge to the dashed black line instead?\n",
    "* **($1$ mark)** Would you increase, or decrease this parameter?\n",
    "* **($2$ mark)** As an alternative approach, what parameters you could tune in NMI image similarity metric computeration that could modify the shape of the NMI curve in graph (c) above?"
   ]
  },
  {
   "cell_type": "markdown",
   "metadata": {},
   "source": [
    "    convergenceMinimumValue\n",
    "    I would increase. \n",
    "    SetNumberOfHistogramBins"
   ]
  },
  {
   "cell_type": "markdown",
   "metadata": {},
   "source": [
    "- (a) **(1 mark)** What is $R(60^\\circ)$?  Use Jupyter/Markdown to write out the matrix numerically up to $4$ decimal place. Pay attention to the unit for angle.\n",
    "\n",
    "    R=[0.5 -0.866; 0.866 0.5]\n",
    "    \n",
    "\n",
    "- (b) **(3 mark)** Verify your answer by writing a SimpleITK code. You may, for example,\n",
    "  - create an instance of Euler2DTransform\n",
    "  - specify the angle of rotation\n",
    "  - (optionally) specify the origin of rotation, and\n",
    "  - print out the rotation matrix.\n"
   ]
  },
  {
   "cell_type": "code",
   "execution_count": 7,
   "metadata": {},
   "outputs": [
    {
     "name": "stdout",
     "output_type": "stream",
     "text": [
      "(0.5000000000000001, -0.8660254037844386, 0.8660254037844386, 0.5000000000000001)\n"
     ]
    }
   ],
   "source": [
    "import SimpleITK as sitk\n",
    "import numpy as np\n",
    "import matplotlib.pyplot as plt\n",
    "rotation2D = sitk.Euler2DTransform()\n",
    "rotation2D.SetAngle(np.pi/3)\n",
    "rotation2D.SetCenter( [0, 0] )\n",
    "print(rotation2D.GetMatrix())"
   ]
  },
  {
   "cell_type": "markdown",
   "metadata": {},
   "source": [
    "- (c) **(1 mark)** If you are given a rotation matrix $R(\\theta) = \\begin{bmatrix} \\frac{1}{\\sqrt{2}}& \\frac{1}{\\sqrt{2}} \\\\ -\\frac{1}{\\sqrt{2}}& \\frac{1}{\\sqrt{2}} \\end{bmatrix}$, **what is $\\theta$ in degree**?"
   ]
  },
  {
   "cell_type": "markdown",
   "metadata": {},
   "source": [
    "theta is -45 degree"
   ]
  },
  {
   "cell_type": "markdown",
   "metadata": {},
   "source": [
    "- (d) **(3 mark)** in SimpleITK, verify the above equation for rotation about the x-axis is correct. Assuming $\\theta=60^{\\circ}$:\n",
    "  - construct an instance of Euler3DTransform,\n",
    "    - make sure the center of rotation is at the origin,\n",
    "  - print out the matrix of rotation about the x-axis by $\\theta=60^{\\circ}$."
   ]
  },
  {
   "cell_type": "code",
   "execution_count": 8,
   "metadata": {},
   "outputs": [
    {
     "name": "stdout",
     "output_type": "stream",
     "text": [
      "(1.0, 0.0, 0.0, 0.0, 0.5000000000000001, -0.8660254037844386, 0.0, 0.8660254037844386, 0.5000000000000001)\n"
     ]
    }
   ],
   "source": [
    "rigid_euler = sitk.Euler3DTransform((0,0,0),np.pi/3, 0,0)  # rotation_center, theta_x, theta_y, theta_z\n",
    "print(rigid_euler.GetMatrix())"
   ]
  },
  {
   "cell_type": "markdown",
   "metadata": {},
   "source": [
    "- (e) **(2 mark)** Going through the same mental exercise, construct the rotation matrix for rotation abot the y-axis by an amount of $\\theta$:\n",
    "  - Using Jupyter Notebook/Markdown, type out the rotation matrix as a function of $\\theta$,"
   ]
  },
  {
   "cell_type": "markdown",
   "metadata": {},
   "source": [
    "- (e) $R_{y}(\\theta) = \\begin{bmatrix} \\cos(\\theta) & 0 & \\sin(\\theta)\\\\    0 & 1 & 0    \\\\ -\\sin(\\theta) & 0 & \\cos(\\theta) \\end{bmatrix}$"
   ]
  },
  {
   "cell_type": "markdown",
   "metadata": {},
   "source": [
    "- (f) **(2 mark)** Similarly, construct the rotation matrix for rotation abot the z-axis by an amount of $\\theta$:\n",
    "  - Using Jupyter Notebook/Markdown, type out the rotation matrix as a function of $\\theta$,"
   ]
  },
  {
   "cell_type": "markdown",
   "metadata": {},
   "source": [
    "- (f) $R_{z}(\\theta) = \\begin{bmatrix} \\cos(\\theta) & -\\sin(\\theta) & 0\\\\   \\sin(\\theta) & \\cos(\\theta)  & 0\\\\ 0 & 0 & 1   \\end{bmatrix}$"
   ]
  },
  {
   "cell_type": "markdown",
   "metadata": {},
   "source": [
    "- (g) **(3 mark)** Successive rotations can be represented by a single rotation matrix. Let $R_x(\\theta)$ be the rotation about the x-axis by an angle $\\theta$, and $R_y(\\gamma)$ be the rotation about the y-axis by an angle $\\gamma$.\n",
    "\n",
    "\n",
    "\n",
    "if $\\theta$ = $90^\\circ$ $\\gamma$ = $90^\\circ$\n",
    "\n",
    "$ \\begin{bmatrix} 1 & 0 & 0\\\\ 0 & 0 & -1\\\\ 0 & 1 & 0\\end{bmatrix} \\begin{bmatrix} 0 & 0 & 1\\\\0 & 1 & 0\\\\-1 & 0 & 0\\end{bmatrix}$\n",
    "\n",
    "- In general, does the rotation about x-axis by an angle $\\theta$ followed by a rotation about the y-axis by an angle $\\gamma$ **the same** as rotation about the y-axis by an angle $\\gamma$ first, followed the rotation about the x-axis by an angle $\\theta$?  **why or why not?** "
   ]
  },
  {
   "cell_type": "markdown",
   "metadata": {},
   "source": [
    "- (g) They are not the same.\n",
    "Matrix multiplication is not commutative"
   ]
  },
  {
   "cell_type": "code",
   "execution_count": null,
   "metadata": {},
   "outputs": [],
   "source": []
  }
 ],
 "metadata": {
  "kernelspec": {
   "display_name": "Python 3",
   "language": "python",
   "name": "python3"
  },
  "language_info": {
   "codemirror_mode": {
    "name": "ipython",
    "version": 3
   },
   "file_extension": ".py",
   "mimetype": "text/x-python",
   "name": "python",
   "nbconvert_exporter": "python",
   "pygments_lexer": "ipython3",
   "version": "3.6.7"
  }
 },
 "nbformat": 4,
 "nbformat_minor": 2
}
