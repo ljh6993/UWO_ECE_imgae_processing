{
 "cells": [
  {
   "cell_type": "markdown",
   "metadata": {},
   "source": [
    "\n",
    "envokes a mail client to send an email to??assignment 1 and email\n",
    "<h1 align=\"center\">ECE 4438B Advanced Image Processing and Analysis</h1>\n",
    "<h3 align=\"center\">Assignment #1</h3>\n",
    "<h4 align=\"center\">Jianhui Li,  <a href=\"mailto:ljianhui@uwo.ca?subject=Assignment1\">ljianhui@uwo.ca</a></h4>\n",
    "<h4 align=\"center\">Mechatronic Systems Engineering</h4>\n",
    "<h4 align=\"center\">Western University</h4>\n",
    "<h4 align=\"center\">Date of submission: Feb. 8th, 2019</h4>\n",
    "<h4 align=\"center\">Submitted to: Elvis C.S. Chen</h4>\n"
   ]
  },
  {
   "cell_type": "code",
   "execution_count": 1,
   "metadata": {},
   "outputs": [],
   "source": [
    "#Task 2\n",
    "# Load (import) SimpleITK module into the Python interpretor, rename it as sitk \n",
    "import SimpleITK as sitk\n",
    "# Load (import) matplotlib.pyplot module and rename it as plt\n",
    "import matplotlib.pyplot as plt"
   ]
  },
  {
   "cell_type": "code",
   "execution_count": 14,
   "metadata": {},
   "outputs": [
    {
     "name": "stdout",
     "output_type": "stream",
     "text": [
      "SimpleITK Version: 1.2.0 (ITK 4.13)\n",
      "Compiled: Jan  3 2019 15:43:30\n",
      "\n"
     ]
    }
   ],
   "source": [
    "print(sitk.Version())"
   ]
  },
  {
   "cell_type": "code",
   "execution_count": 15,
   "metadata": {},
   "outputs": [
    {
     "name": "stdout",
     "output_type": "stream",
     "text": [
      "env: SITK_SHOW_COMMAND=/Applications/ITK-SNAP.app/Contents/MacOS/ITK-SNAP\n"
     ]
    }
   ],
   "source": [
    "%env SITK_SHOW_COMMAND /Applications/ITK-SNAP.app/Contents/MacOS/ITK-SNAP \n",
    "# change the external tool into ITK-SNAP\n",
    "#Inmy labtop, the imageJ does not work\n"
   ]
  },
  {
   "cell_type": "code",
   "execution_count": 16,
   "metadata": {},
   "outputs": [
    {
     "name": "stdout",
     "output_type": "stream",
     "text": [
      "(0.307768, 0.307768, 0.307768)\n"
     ]
    }
   ],
   "source": [
    "# Retrieve a CT volumetric file  'spine.mha' from the same documentation, \n",
    "image = sitk.ReadImage(\"spine.mha\")\n",
    "\n",
    "# get the size (number of voels) of the volume\n",
    "voxel1=(image.GetSize())\n",
    "\n",
    "#get the physical size of the voxel\n",
    "print(image.GetSpacing())\n",
    "\n",
    "#The image slice from the middle of the stack according to the z axis\n",
    "midz = voxel1[2]//2 \n",
    "#Display this 2D mid-Depth image, the order is xyz\n",
    "sitk.Show(image[:,:,midz])\n"
   ]
  },
  {
   "cell_type": "code",
   "execution_count": 17,
   "metadata": {},
   "outputs": [
    {
     "data": {
      "image/png": "[encoded data removed]",
      "text/plain": [
       "<Figure size 432x288 with 1 Axes>"
      ]
     },
     "metadata": {
      "needs_background": "light"
     },
     "output_type": "display_data"
    }
   ],
   "source": [
    "\n",
    "# create a plot\n",
    "plt.figure() \n",
    "# the order of GetArrayViewFromImage function is zyx, hist, show the histagram\n",
    "plt.hist(sitk.GetArrayViewFromImage(image)[midz,:,:]) \n",
    "  # Title\n",
    "plt.title(\"Histogram\")  \n",
    " # X label Hounsfield unit (HU) scale, the range is automatically set\n",
    "plt.xlabel(\"Pixel Intensity\")   \n",
    " # Y label the number of pixel in this picture slice\n",
    "plt.ylabel(\"Occurance\")    \n",
    "plt.show()    # show figure\n"
   ]
  },
  {
   "cell_type": "code",
   "execution_count": null,
   "metadata": {},
   "outputs": [],
   "source": []
  },
  {
   "cell_type": "code",
   "execution_count": 6,
   "metadata": {},
   "outputs": [],
   "source": [
    "#task 5:\n",
    "# create filter called thresholdfilter\n",
    "thresholdFilter = sitk.BinaryThresholdImageFilter() \n",
    "#load the 3d picture as vol\n",
    "vol = sitk.ReadImage('spine.mha') \n",
    "# lower threshold set to 1000\n",
    "thresholdFilter.SetLowerThreshold(1000)\n",
    "# upper threshold set to 1000\n",
    "thresholdFilter.SetUpperThreshold(2001)\n",
    "# Inside range display as white\n",
    "thresholdFilter.SetInsideValue(255)\n",
    "# outside range display as black\n",
    "thresholdFilter.SetOutsideValue(0)\n",
    "# run the filter output to segmentedVolume\n",
    "segmentedVolume=thresholdFilter.Execute(vol)\n",
    "# display the slice in x,y,midz\n",
    "sitk.Show(segmentedVolume[:,:,midz])\n",
    "\n",
    "#using SimpleITK's built-in Show() command, display the segmented 2D image corresponding to the pre-segmented 2D image in task 3 (1 mark)\n",
    "##HINT If you are not certain on the usage of any SimpleITK filter/class, how can you get some help?"
   ]
  },
  {
   "cell_type": "code",
   "execution_count": 7,
   "metadata": {},
   "outputs": [],
   "source": [
    "#task 6:\n",
    "# Save segmentedVolume as 'segmented_spine.mha'\n",
    "sitk.WriteImage(segmentedVolume, 'segmented_spine.mha')"
   ]
  },
  {
   "cell_type": "markdown",
   "metadata": {},
   "source": [
    "\n",
    "\n",
    "# Task 7\n",
    "* Image Modality used: CT (Computer Tomography)\n",
    "* High density objects like metal and bone shows up brighter than lower density surrounding\n",
    "* Bone and Air\n",
    "* Bone is the object (material) of interest. It is radio opaque. Cancellous bone is aroung 300-400HU, cortical bone is around 1800-1900HU.\n",
    "* From the histogram, the lower pixels -1000 corresponding to air，bone corresponding to the higher pixel intensity which represents highter density than water（0 HU）.\n",
    "* <img src=\"1.jpeg\" style=\"width:200px\"/>\n",
    "\n"
   ]
  },
  {
   "cell_type": "code",
   "execution_count": null,
   "metadata": {},
   "outputs": [],
   "source": []
  }
 ],
 "metadata": {
  "kernelspec": {
   "display_name": "Python 3",
   "language": "python",
   "name": "python3"
  },
  "language_info": {
   "codemirror_mode": {
    "name": "ipython",
    "version": 3
   },
   "file_extension": ".py",
   "mimetype": "text/x-python",
   "name": "python",
   "nbconvert_exporter": "python",
   "pygments_lexer": "ipython3",
   "version": "3.6.7"
  }
 },
 "nbformat": 4,
 "nbformat_minor": 2
}
