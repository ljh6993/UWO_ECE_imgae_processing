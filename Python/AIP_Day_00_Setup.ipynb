{
 "cells": [
  {
   "cell_type": "markdown",
   "metadata": {},
   "source": [
    "<h1 align=\"center\">Testing SimpleITK Setup</h1>\n",
    "\n",
    "Check that SimpleITK and auxiliary program(s) are correctly installed in your environment, and that you have the SimpleITK version which you expect (<b>requires network connectivity</b>).\n",
    "\n",
    "You can optionally download all of the data used in the notebooks in advance. This step is only necessary if you expect to run the notebooks without network connectivity."
   ]
  },
  {
   "cell_type": "code",
   "execution_count": null,
   "metadata": {},
   "outputs": [],
   "source": [
    "# It is a good practice to load all external libraries (packages) at the beginning of your python script\n",
    "import SimpleITK as sitk\n",
    "print(sitk.Version())\n",
    "\n",
    "# or\n",
    "# import SimpleITK\n",
    "# print(SimpleITK.Version())\n",
    "#\n",
    "# What are the differences?"
   ]
  },
  {
   "cell_type": "code",
   "execution_count": null,
   "metadata": {},
   "outputs": [],
   "source": [
    "# similar to an UNIX environment, display the current working directory"
   ]
  },
  {
   "cell_type": "code",
   "execution_count": null,
   "metadata": {},
   "outputs": [],
   "source": [
    "pwd"
   ]
  },
  {
   "cell_type": "code",
   "execution_count": null,
   "metadata": {},
   "outputs": [],
   "source": [
    "# there is a .py file in the current directory, which is a script that updates the searchable directories"
   ]
  },
  {
   "cell_type": "code",
   "execution_count": null,
   "metadata": {},
   "outputs": [],
   "source": [
    "run update_path_to_download_script"
   ]
  },
  {
   "cell_type": "markdown",
   "metadata": {},
   "source": [
    "The following script will download whole bunches of images from the internet and store them in the local drive. <b>Requires network connectivity</b>"
   ]
  },
  {
   "cell_type": "code",
   "execution_count": null,
   "metadata": {},
   "outputs": [],
   "source": [
    "from downloaddata import fetch_data, fetch_data_all"
   ]
  },
  {
   "cell_type": "markdown",
   "metadata": {},
   "source": [
    "The following cell checks that all expected packages and correct versions are installed. SimpleITK may possibly work with other versions of these packages, but these are the ones we rely on."
   ]
  },
  {
   "cell_type": "code",
   "execution_count": null,
   "metadata": {},
   "outputs": [],
   "source": [
    "from __future__ import print_function\n",
    "import importlib\n",
    "from distutils.version import LooseVersion\n",
    "\n",
    "required_packages = {'IPython' : '4.0.0',\n",
    "                     'numpy' : '1.9.2',\n",
    "                     'matplotlib' : '1.4.2',\n",
    "                     'ipywidgets' : '4.0.x' \n",
    "                    }\n",
    "\n",
    "problem_packages = list()\n",
    "# Iterate over the required packages: If the package is not installed\n",
    "# ignore the exception. If it is installed check the version and remove\n",
    "# from dictionary. In the end the dictionary contains the packages\n",
    "# that are not installed.\n",
    "for package, required_version in required_packages.items():\n",
    "    try:\n",
    "        p = importlib.import_module(package)        \n",
    "        # Current release of ipywidgets has a bug with the __version__\n",
    "        # attribute. This was fixed in master, so for now we do not\n",
    "        # check ipywidgets version.\n",
    "        if package != 'ipywidgets':\n",
    "            installed_version = LooseVersion(p.__version__)\n",
    "            required_version = LooseVersion(required_version)\n",
    "            if installed_version < required_version:\n",
    "                print('{0} - required version: {1} installed version: {2}'.format(\n",
    "                        p.__name__, required_version, installed_version))\n",
    "                problem_packages.append(package)    \n",
    "    except ImportError:\n",
    "        problem_packages.append(package)\n",
    "    \n",
    "if len(problem_packages) is 0:\n",
    "    print('All is well.')\n",
    "else:\n",
    "    print('The following packages are required but not installed: ' \\\n",
    "          + ', '.join(problem_packages))"
   ]
  },
  {
   "cell_type": "markdown",
   "metadata": {},
   "source": [
    "We expect that you have an external image viewer installed. The default viewer is <a href=\"http://imagej.net/Welcome\">ImageJ</a>. If you have another viewer (i.e. ITK-SNAP or 3D Slicer) you will need to set an environment variable to point to it. This can be done from within a notebook as shown below."
   ]
  },
  {
   "cell_type": "code",
   "execution_count": null,
   "metadata": {},
   "outputs": [],
   "source": [
    "# Uncomment the line below to change the default external viewer to your viewer of choice and test that it works.\n",
    "#%env SITK_SHOW_COMMAND /Applications/ITK-SNAP.app/Contents/MacOS/ITK-SNAP \n",
    "\n",
    "# Retrieve an image from the network, read it and display using the external viewer\n",
    "sitk.Show(sitk.ReadImage(fetch_data(\"SimpleITK.jpg\")))"
   ]
  },
  {
   "cell_type": "markdown",
   "metadata": {},
   "source": [
    "Download all of the data in advance if you expect to be working offline (may take a couple of minutes)."
   ]
  },
  {
   "cell_type": "code",
   "execution_count": null,
   "metadata": {},
   "outputs": [],
   "source": [
    "fetch_data_all(os.path.join('..','Data'), os.path.join('..','Data','manifest.json'))"
   ]
  }
 ],
 "metadata": {
  "kernelspec": {
   "display_name": "Python 3",
   "language": "python",
   "name": "python3"
  },
  "language_info": {
   "codemirror_mode": {
    "name": "ipython",
    "version": 3
   },
   "file_extension": ".py",
   "mimetype": "text/x-python",
   "name": "python",
   "nbconvert_exporter": "python",
   "pygments_lexer": "ipython3",
   "version": "3.6.8"
  }
 },
 "nbformat": 4,
 "nbformat_minor": 2
}
