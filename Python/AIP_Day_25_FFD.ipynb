{
 "cells": [
  {
   "cell_type": "markdown",
   "metadata": {},
   "source": [
    "<h1 align=\"center\">Advanced Image Processing and Analysis</h1>\n",
    "<h3 align=\"center\">ECE 4438B/ECE 9022/ECE 9202B/BIOMED 9519B/BIOPHYS 9519B/CAMI 9519B</h3>\n",
    "<h4 align=\"center\"><a href=\"mailto:echen29@uwo.ca?subject=Day Day 23: Free Form Deformation\"> Elvis Chen, PhD, LL</a></h4>\n",
    "<h4 align=\"center\">Day 25, April 01, 2019</h4>"
   ]
  },
  {
   "cell_type": "code",
   "execution_count": 3,
   "metadata": {},
   "outputs": [],
   "source": [
    "from __future__ import print_function\n",
    "import numpy as np\n",
    "\n",
    "import matplotlib.pyplot as plt\n",
    "%matplotlib inline \n",
    "\n",
    "from IPython.display import HTML\n",
    "import io\n",
    "import base64\n",
    "\n",
    "import SimpleITK as sitk\n",
    "import registration_utilities as ru\n",
    "import registration_callbacks as rc\n",
    "import utilities as util\n",
    "\n",
    "from ipywidgets import interact, fixed\n",
    "\n",
    "#utility method that either downloads data from the MIDAS repository or\n",
    "#if already downloaded returns the file name for reading from disk (cached data)\n",
    "%run update_path_to_download_script\n",
    "from downloaddata import fetch_data as fdata\n",
    "\n",
    "OUTPUT_DIR = \"output\""
   ]
  },
  {
   "cell_type": "markdown",
   "metadata": {},
   "source": [
    "## Objective\n",
    "\n",
    "Free Form Deformation (FFD) using B-splines.\n",
    "\n",
    "Previously, we learnt about one form of deformable registration using Thin Plate Splines. The idea was to identify two set of homologous landmarks from each of the **moving** and **fixed** image, and used the position of these landmarks as the basis for registration.\n",
    "\n",
    "There are two components to the TPS deformable registration: first is the (global) affine registration, followed by a (local) deformable registration.  The local deformation is governed by minimzing a bending energy.\n",
    "\n",
    "TPS(Thin Plate Splines) registration does **not** take into account the image characteristics, such as pixel intensity and histogram, at all."
   ]
  },
  {
   "cell_type": "markdown",
   "metadata": {},
   "source": [
    "A quick review.\n",
    "\n",
    "### TPS Registration Applications\n",
    "\n",
    "Image Registration\n",
    "* *With point matching*: [**Registration of images with geometric distortions** by A. Goshtasby, *IEEE Transactions on Geoscience and Remote Sensing*, 26(1):60-64, 1998](http://ieeexplore.ieee.org/document/3000/).\n",
    "* *With voxel similarity measures*: [**Demonstration of accuracy and clinical versatility of mutual information for automatic multimodality image fusion using affine and thin-plate spline warped geometric deformations** by Meyer et al., *Medical Image Analysis*, 1(3):195-207, 1997](https://www.sciencedirect.com/science/article/pii/S1361841597850104)\n",
    "\n",
    "\n",
    "#### Advantage:\n",
    "\n",
    "Control points can have arbitrary spatial distribution:\n",
    "  * In theory, choose as many as you like,\n",
    "  * But registration accurady depends on how well these landmarks can be determined, i.e. Fiducial Localization Error (FLE)\n",
    "  * More landmarks means more parameters to determine,\n",
    "  \n",
    "#### Disadvantages:\n",
    "* Requires point matching, $1:1$ correspondence\n",
    "  * which requires manual work,\n",
    "  * and expertise (medical images == medical expertise)\n",
    "* Control points have global influence since the use of basis function has infinite support!\n",
    "  * it *cannot* handle local distortion effectively\n",
    "  * see [**Radial basis functions with compact support for elastic registration of medical images** by Fornefett, Rohr, and Stiehl, *Image and Vision Computing*, 19(1-2):87-96, 2001](https://www.sciencedirect.com/science/article/pii/S0262885600000573)"
   ]
  },
  {
   "cell_type": "markdown",
   "metadata": {},
   "source": [
    "The properties of the radial basis function, that it has an infinite support, means that moving a single landmark has a global effect to all pixels in the image. Sometimes this property is not desired.\n",
    "\n",
    "For example, suppose we are performing a deformable registration of two images containing both bones and soft tissues. Bone is considered as a rigid structure and does not deform as a single object (bones connected by a joint may deform/bend). Thus, if we use TPS to register these images and defined landmarks on the deformable soft tissues, the \"rigidity\" of the bone is affected even if the chosen landmarks are far away.\n",
    "\n",
    "Some of these properties are further explored in *Assignment $4$*."
   ]
  },
  {
   "cell_type": "markdown",
   "metadata": {},
   "source": [
    "#### Point Registration with TPS\n",
    "\n",
    "(In $2D$, generalize it to $3D$ youself accordingly. Think about how many parameters are needed in both cases.)\n",
    "* For $N$ pairs of points $(x,y) \\rightarrow (x',y')$,\n",
    "* Find the $6+2N$ coefficients\n",
    "\n",
    "$a_{1,1}, a_{2,1}, a_{3,1}, w_{j,1},a_{1,2}, a_{2,2}, a_{3,2}, w_{j,2}$, such that\n",
    "\n",
    "\n",
    "$\n",
    "\\begin{eqnarray}\n",
    "x' & = & a_{1,1} + a_{2,1} x + a_{3,1} y + \\sum_{j=1}^n w_{j,1} U(|(x_j,y_j)-(x,y)|)\\\\\n",
    "y' & = & a_{1,2} + a_{2,2} x + a_{3,2} y + \\sum_{j=1}^n w_{j,2} U(|(x_j,y_j)-(x,y)|)\\\\\n",
    "\\end{eqnarray}\n",
    "$\n",
    "\n",
    "for all $N$ pairs ($2N$ equations), and \n",
    "\n",
    "* also satisfy these $6$ equations:\n",
    "\n",
    "$\n",
    "\\begin{eqnarray}\n",
    "  \\sum w_{j,1} & = & 0\\\\\n",
    "  \\sum w_{j,2} & = & 0\\\\\n",
    "  \\sum w_{j,1} x_j & = & 0\\\\\n",
    "  \\sum w_{j,2} x_j & = & 0\\\\\n",
    "  \\sum w_{j,1} y_j & = & 0\\\\\n",
    "  \\sum w_{j,2} y_j & = & 0\\\\\n",
    "\\end{eqnarray}\n",
    "$\n",
    "\n",
    "* After these coefficients are found, use them to compute $(x',y')$ for every point $(x,y)$ in the image.\n",
    "\n",
    "**Questions**: What is $U$ in $2$D and $3$D?"
   ]
  },
  {
   "cell_type": "markdown",
   "metadata": {},
   "source": [
    "#### Why does TPS behave well?\n",
    "\n",
    "As a point $x$ moves away from the $N$ fiducial points, the term in the sum\n",
    "\n",
    "(in $2$D. **Question**: What is the equivalent equation in $3$D?)\n",
    "\n",
    "$\n",
    "\\sum_j^N w_{j,1} r^2 \\log( r^2)\n",
    "$\n",
    "\n",
    "begin to cancel out. The sum $\\to 0$. The same thing happens to $y$-axis, so\n",
    "\n",
    "$\n",
    "\\begin{eqnarray}\n",
    "x' & \\to & a_{1,1} + a_{2,1} x + a_{3,1} y\\\\\n",
    "y' & \\to & a_{1,2} + a_{2,2} x + a_{3,2} y\n",
    "\\end{eqnarray}\n",
    "$\n",
    "\n",
    "which is an *affine* registration."
   ]
  },
  {
   "cell_type": "markdown",
   "metadata": {},
   "source": [
    "### Example\n",
    "\n",
    "Since we will be implementing TPS in Assignment 4, we will use VTK's implementation for this numerical example. If you have downloaded 3D Slicer previously (instruction in Day 22's notes), enter the following python codes in Slicer's Python intepreter.\n",
    "\n",
    "(for now, we are using the simple examples of TPS as outlined in Day 22's notes, i.e. making a sad orangutan)\n",
    "\n",
    "```python\n",
    "\n",
    "# Assume 2D points, z=0, although VTK's implementation works for 3D TPS.\n",
    "#\n",
    "# If using 3D TPS, one needs to set the basis function to R insteadl of R^2 log(R^2)\n",
    "#\n",
    "# transform.SetBasisToR()\n",
    "#\n",
    "\n",
    "# image size, we need to flip the y-axis\n",
    "imagex = 800\n",
    "imagey = 600\n",
    "\n",
    "p1.SetNumberOfPoints( 5 )\n",
    "p1.SetPoint( 0, 324,  imagey-499, 0) # right point on the lip,  y = 101\n",
    "p1.SetPoint( 1, 378,  imagey-540, 0) # center point on the lip, y = 60\n",
    "p1.SetPoint( 2, 451,  imagey-510, 0) # left point on the lip,   y = 90\n",
    "p1.SetPoint( 3, 343,  imagey-234, 0) # right eye                y = 366\n",
    "p1.SetPoint( 4, 452,  imagey-229, 0) # left eye                 y = 371\n",
    "\n",
    "p2.SetNumberOfPoints( 5 )\n",
    "p2.SetPoint( 0, 324,  imagey-540, 0) # right point on the lip   y = 60\n",
    "p2.SetPoint( 1, 378,  imagey-540, 0) # center point on the lip  y = 60\n",
    "p2.SetPoint( 2, 451,  imagey-540, 0) # left point on the lip    y = 60\n",
    "p2.SetPoint( 3, 343,  imagey-234, 0) # right eye                y = 366\n",
    "p2.SetPoint( 4, 452,  imagey-229, 0) # left eye                 y = 371\n",
    "\n",
    "   \n",
    "transform = vtk.vtkThinPlateSplineTransform()\n",
    "transform.SetSourceLandmarks( p1 )\n",
    "transform.SetTargetLandmarks( p2 )\n",
    "transform.SetBasisToR2LogR()         # use transform.SetBasisToR() for 3D\n",
    "transform.Modified()\n",
    "```"
   ]
  },
  {
   "cell_type": "markdown",
   "metadata": {},
   "source": [
    "**Question**: Where are the control points themself mapped to?\n",
    "\n",
    "```python\n",
    "# one of the control point, assuming z=0\n",
    "transform.TransformPoint([324, 101, 0]) # left point on the lip\n",
    "```"
   ]
  },
  {
   "cell_type": "markdown",
   "metadata": {},
   "source": [
    "**Question**: What about a pixel that is far far away?\n",
    "\n",
    "```python\n",
    "# a pixel that is far far away, assuming z=0\n",
    "transform.TransformPoint([8000, 6000, 0])\n",
    "```"
   ]
  },
  {
   "cell_type": "markdown",
   "metadata": {},
   "source": [
    "**Question**: What about a pixel located close to the control point?\n",
    "\n",
    "```python\n",
    "# a pixel that is near by the control points\n",
    "transform.TransformPoint([400, 300, 0])\n",
    "```"
   ]
  },
  {
   "cell_type": "markdown",
   "metadata": {},
   "source": [
    "#### Displacement field\n",
    "\n",
    "By transforming $(x,y)\\to (x',y')$, we can conceptualize it as:\n",
    "\n",
    "<img src=\"deform.PNG\" style=\"width:400px\"/>\n",
    "\n",
    "That is, we *displace* a pixel by moving it to a new location. For all pixels, this can be visualized as a *displacement field*:\n",
    "\n",
    "<img src=\"displacement_fields.PNG\" style=\"width:400px\"/>"
   ]
  },
  {
   "cell_type": "markdown",
   "metadata": {},
   "source": [
    "<img src=\"LenaDeform.PNG\" style=\"width:600px\"/>\n",
    "<img src=\"Deformable_grid.PNG\" style=\"width:400px\"/>\n",
    "<img src=\"deformation_field.PNG\" style=\"width:800px\"/>\n",
    "Image courtesy of Loren Author Schwarz, 2007."
   ]
  },
  {
   "cell_type": "markdown",
   "metadata": {},
   "source": [
    "#### Forward mapping versus Backward mapping\n",
    "\n",
    "Given the definition of a displacement field, there are two principal ways of how an image warping can be accomplished:\n",
    "\n",
    "**Forward Mapping**\n",
    "\n",
    "$\n",
    "I'_{m}(T(x)) \\leftarrow I_{m}(X), \\forall x \\in \\Omega,\n",
    "$\n",
    "\n",
    "This is referred to as the *forward* warping: pixels from the **Reference** image is *forwarded* from the coordinate frame of the reference image to the new image. One may come up with some pseudo-code for doing so:\n",
    "\n",
    "``` python\n",
    "for i in range(0, umax):\n",
    "  for j in range(0, vmax):\n",
    "    x = X(u,v)\n",
    "    y = Y(u,v)\n",
    "    newImage[round(X(u,v)), round(Y(u,v))] = referenceImage[u,v]\n",
    "```\n",
    "\n",
    "<img src=\"forward_mapping.png\" style=\"width:600px\"/>\n",
    "\n",
    "The function pair $[X(),Y()]$ defines what is known as a *forward map* from the reference image to new (warped) image. Note that the $round()$ operations in the assignment statement are necessary to provide integer pixel coordinates. If the reference image were continuous, and the forward map is reasonably smooth (i.e. it had no discontinuities), it would suffice to allow one to *paint in* the warped image from the reference image. That is, for each coordinate pair (u,v) in the reference image, we would simply color the point $[X(u,v), Y(u,v)]$ in the warped image the same colour as the point $(u,v)$ in the reference image.\n",
    "\n",
    "The fundamental problem is that we are working with **digital** image, meaning that the image/volume we get is a discrete samples of the original continuous signal. The implication is that, in general, the warp function will not map continuously-indexed pixels in the reference image to continuously-indexed pixels in the new image:\n",
    "\n",
    "\n",
    "<img src=\"forward_warping.png\" style=\"width:600px\"/>\n",
    "\n",
    "There are potentially several problems in the Forward Warping approach:\n",
    "* Same source pixel may map to multiple destination pixels, where the output is scaled down with respect to the reference,\n",
    "* Some destination pixels may have no corresponding source, i.e. leaving holes in the new image, where the output is scaled up compared with the input,"
   ]
  },
  {
   "cell_type": "markdown",
   "metadata": {},
   "source": [
    "The fundamental problem is that each pixel in the reference (input) image represents a finite (non-zero) area and actually projects an area of the reference image onto the output, as shown below:\n",
    "\n",
    "<img src=\"pixel_project.png\" style=\"width:600px\"/>\n",
    "\n",
    "If the forward mapping algorithm carefully projects each pixel onto the output, we would see that each input pixel *might* fully cover some output pixels and partially cover several other output pixel, or it *might* only partially cover a single pixel. To construct a proper output image, we could calculate the percentage coverage of each output pixel by the input pixel, and use it to compute a weighted average pixel intensity/color for each output pixel. This would give us an warped/output image without holes or overlaps.\n",
    "\n",
    "But the calculation of the correct percentage/weights could get very complex, especially if the forward map is highly non-linear (i.e straight light gets mapped to a curved line):\n",
    "* if the mapping is linear, a simple way to do the forward projection of a pixel is to map each of its four corners and then connect these projected corners by straight lines,\n",
    "* if the mapping is non-linear, one would have to resort to other methods to get accurate results,\n",
    "    - such as mapping many sample points around the pixel contour.\n",
    "   \n",
    "Either way, these methods are bound to be slow to computer and hard to implement.\n",
    "\n",
    "If the forward mapping is highly non-linear,"
   ]
  },
  {
   "cell_type": "markdown",
   "metadata": {},
   "source": [
    "* and there would be a *fold* problem as well:\n",
    "\n",
    "<img src=\"foward_warp_problem.PNG\" style=\"width:800px\"/>\n",
    "image courtesy of [here](http://groups.csail.mit.edu/graphics/classes/CompPhoto06/html/lecturenotes/14_WarpMorph.pdf)"
   ]
  },
  {
   "cell_type": "markdown",
   "metadata": {},
   "source": [
    "**Inverse Warping/Mapping**\n",
    "\n",
    "The other option that eliminates these problem is the **inverse** warping. The main difference is that now for every pixel of the new image, a coodrinate in the original (reference) image is computed, where its intensity value originates from. This involves the inverse transformation $T^{-1}$:\n",
    "\n",
    "$\n",
    "I'_{m}(x) \\leftarrow(T^{-1}(x)), \\forall x \\in \\Omega,\n",
    "$\n",
    "\n",
    "In analogy to forward warping, it is possible that $T^{-1}(x)$ yields a non-integer value. However, we can easily apply an interpolation scheme on the original (reference) image to obtain intensity values at coordinates between systems. (Since the reference image is on a regular grid, interpolation in general works fine). \n",
    "\n",
    "Unfortunately the inverse of the transformation function is often not trivial to obtain. However, in many cases an approximation such as the following can be used with acceptable results:\n",
    "\n",
    "$\n",
    "T^{-1}(x) \\approx x-u(x)\n",
    "$\n",
    "\n",
    "As a matter of definition, the behavior of the transformation function can be treated as an inverse, so that an actual inversion would only be required for forward warping.\n",
    "\n",
    "<img src=\"foward_inverse_warping.PNG\" style=\"width:800px\"/>\n",
    "Image courtesy of Loren Author Schwarz, 2007.\n"
   ]
  },
  {
   "cell_type": "markdown",
   "metadata": {},
   "source": [
    "That is, instead of sending each input pixel to an output pixel, we look at each output pixel and determine what input pixel(s) map to it, as shown below.\n",
    "\n",
    "<img src=\"inverse_warping.PNG\" style=\"width:800px\"/>\n",
    "\n",
    "The inver mapping function can be defined as:\n",
    "\n",
    "$u = U(x,y)$\n",
    "\n",
    "$v = V(x,y)$\n",
    "\n",
    "such that\n",
    "\n",
    "$u = U[X(u,v), Y(u,v)]$\n",
    "\n",
    "$v = V[X(u,v), Y(u,v)]$\n",
    "\n",
    "In other words, the function pair $[U(),V()]$ is chosen such that it should exactly inverts (un-do) the mapping due to the pair $[X(),Y()]$. Thus, if one samples the output image at oint $(x,y)$, then $(u,v)=[U(x,y),V(x,y)]$ gives the coordinate $(u,v)$ in the input/reference image that map to position $(x,y)$ in the output. As in the forward mapping, one would need to **round** the inverse mapping to give integer pixel coordinates, but keep in mind that we are roudning the coordinates in the *input/reference* (which is **rectilinear**) and not in the output image (which is **warped**). The inverse warping algorithm is simply:\n",
    "\n",
    "``` python\n",
    "for i in range(0, xmax):\n",
    "  for j in range(0, ymax):\n",
    "    u = U(x,y)\n",
    "    v = Y(x,y)\n",
    "    newImage[x,y] = referenceImage[round(U(x,y)),round(V(x,y))]\n",
    "```\n",
    "\n",
    "Thus, even with a sampled digital image, we can compute the output image from the input image using the inverse warping, without fear of holes or overlaps in the output image."
   ]
  },
  {
   "cell_type": "markdown",
   "metadata": {},
   "source": [
    "One disadvantage of the inverse mapping is that it may over-sample the original (Reference) image, resulting in an **aliasing artifacts**, or under-sample the original image, resulting in an **reconstruction artifacts** (leading to staircasing effects).\n",
    "\n",
    "<img src=\"resampling_aliasing.png\" style=\"width:800px\"/>\n",
    "image courtesy [here](http://groups.csail.mit.edu/graphics/classes/CompPhoto06/html/lecturenotes/14_WarpMorph.pdf)\n",
    "\n",
    "But in general, the advantage of the inverse warping over the forward warping are:\n",
    "* no holes\n",
    "* simplier/easier to implement."
   ]
  },
  {
   "cell_type": "markdown",
   "metadata": {},
   "source": [
    "### Free Form Deformation (FFD) Transformation\n",
    "\n",
    "First off, FFD Transformation and registration are based on the following two papers (available on OWL):\n",
    "\n",
    "[Lee, Wolberg, and Shin,\n",
    "**Scattered data interpolation with multilevel B-splines**,\n",
    "*IEEE Transactions on Visualization and Computer Graphics*,\n",
    "(3)3:228-244, 1997](http://ieeexplore.ieee.org/abstract/document/620490/), and\n",
    "\n",
    "[Rueckert et al.,\n",
    "**Nonrigid registration using free-form deformations: application to breast MR images**,\n",
    "*IEEE Transactions on Medical Imaging*,\n",
    "18(8):712-721, 1999](http://ieeexplore.ieee.org/document/796284/)"
   ]
  },
  {
   "cell_type": "markdown",
   "metadata": {},
   "source": [
    "Consider this mentally exercise:\n",
    "* Suppose we overlay a grid on top of the image,\n",
    "* The image is assumed to be *locally* elastic,\n",
    "* By moving one node the image will deform as shown:\n",
    "<img src=\"local_deform.PNG\" style=\"width:400px\"/>\n",
    "* By moving around a select set of **control points**, a new image can be produced. Consider the control points motion as the deformation,\n",
    "* Following this mental exercise, can we find a transformation that turns a moving image the most similar to its fixed image?   \n",
    "\n",
    "Differ from TPS, this *local elasticity* means that changing the position of the control point only has local effect: pixels far away from the deformed grid are not effected."
   ]
  },
  {
   "cell_type": "markdown",
   "metadata": {},
   "source": [
    "#### FFD Intensity-based Registration workflow\n",
    "\n",
    "The popular feee-form deformation (FFD) registration approach characterizes deformation based on a grid of control points. B-splines serve the purpose of interpolating the dense deformation field from a given control point configuration. the central idea is to combine the FFD methods with well-understood techniques intensity-based registration framework. The basic workflow is to:\n",
    "\n",
    "\n",
    "<img src=\"BSpline_Subdivision.PNG\" style=\"width:900px\"/>\n",
    "\n",
    "* Solve for an optimal affine transformation paramether $\\Theta$ between two images/volumes by maximizing a measure of similarity metric,\n",
    "* initialize the control points $\\Phi$ by laying a uniform $3$D mesh of control points through the image/volume,\n",
    "* Deform the image iteratively by moving the control points,\n",
    "  * Control point motion is primary transformation parameters,\n",
    "  * Pixels will follow control points using a spline function\n",
    "* Calculate NMI (or any other suitable metric) and through optimization stop when it is maximum,\n",
    "* increase the control point resolution.\n",
    "* How is pixel motion calculated using moved control point?\n",
    "  \n",
    "But let us take a look at interpolation using B-spline first."
   ]
  },
  {
   "cell_type": "markdown",
   "metadata": {},
   "source": [
    "#### Interpolation using B-spline\n",
    "\n",
    "Image courtesy of Lee, Wolberg, and Shin (IEEE TVCG, 1997)\n",
    "<img src=\"bSpline_face.PNG\" style=\"width:600px\"/>\n",
    "\n",
    "Another type of deformable, point-based, registration is B-splines deformation. It was initially introduced as a way to interpolate scattered data. It is actually not often used to register image itself, but rather, just deforms and image and provide a way to interpolate the pixels between control points. Later, it is incorporated into an *intensity* based image registration by using grid/lattice as control points.\n",
    "\n",
    "It is, however, used quite often in the entainmen industry:\n",
    "[![test](T888_vs_Weaver.PNG)](https://www.youtube.com/watch?v=1txB3x72MeU)"
   ]
  },
  {
   "cell_type": "markdown",
   "metadata": {},
   "source": [
    "#### Medical Example\n",
    "\n",
    "In Breast Cancer Imaging using MRI, in order to differentiate tissue types in MRI, a contrast agent is often injected into the tissue. One side benefit of such an injection is that because the contrast is enhanced, it enhances image registration.\n",
    "\n",
    "As it often takes time for the contrast agent to infuse into (wash-in), and out of (wash-out), the MRI images taken at different time will have different appearances:\n",
    "\n",
    "<img src=\"breast_contrast_time.PNG\" style=\"width:800px\"/>\n",
    "\n",
    "* A sequence of MRI images are acquired where changes of brightness of abnormal area is monitored over time,\n",
    "* Contrast wash-in and wash-out characterization can determine whether the inclusion is a malignant tumor or benign lesion (e.g. fast wash-in and wash-out may indicate malignancy),\n",
    "* Requires image registration to ensure that the same area is being monitored over time.\n",
    "\n",
    "**Question**: As contrast is changing across the time series, what would you choose as the image similarity metric?"
   ]
  },
  {
   "cell_type": "markdown",
   "metadata": {},
   "source": [
    "#### Free Form Deformation Based Non-Rigid Registration\n",
    "\n",
    "[Lee, Wolberg, and Shin,\n",
    "**Scattered data interpolation with multilevel B-splines**,\n",
    "*IEEE Transactions on Visualization and Computer Graphics*,\n",
    "(3)3:228-244, 1997](http://ieeexplore.ieee.org/abstract/document/620490/),\n",
    "\n",
    "introduced the concept of using B-Splines to interpolate scattered data. FFD is a common technique in computer graphics for modelling $3$D deformable objects.\n",
    "\n",
    "* FFDs are defined by a mesh of control points with uniform spacing,\n",
    "* FFDs deform an underlying object by manipulating a mesh of control points:\n",
    "  * control point can be displaced from their original location,\n",
    "  * control points provide a parameterization of the transformation\n",
    "* Typical a cubic B-splines are used:\n",
    "\n",
    "$\n",
    "\\begin{eqnarray}\n",
    "B_{0}(u) & = & (1-u)^3/6\\\\\n",
    "B_{1}(u) & = & (3 u^3 - 6 u^2 + 4)/6\\\\\n",
    "B_{2}(u) & = & (-3 u^3 + 3 u^2 + 3 u + 1)/6\\\\\n",
    "B_{3}(u) & = & u^3/6\\\\\n",
    "\\end{eqnarray}\n",
    "$\n",
    "\n",
    "Although once understood, other types of B-splines can be used."
   ]
  },
  {
   "cell_type": "code",
   "execution_count": 4,
   "metadata": {},
   "outputs": [],
   "source": [
    "def b0(u):\n",
    "    return( (1-u)**3 / 6)\n",
    "def b1(u):\n",
    "    return( (3*u**3 - 6*u**2 + 4) / 6)\n",
    "def b2(u):\n",
    "    return( (-3*u**3 + 3*u**2 + 3*u + 1) / 6)\n",
    "def b3(u):\n",
    "    return( u**3 / 6)"
   ]
  },
  {
   "cell_type": "code",
   "execution_count": 5,
   "metadata": {},
   "outputs": [
    {
     "data": {
      "text/plain": [
       "[<matplotlib.lines.Line2D at 0x62215ccf8>,\n",
       " <matplotlib.lines.Line2D at 0x62215cf28>,\n",
       " <matplotlib.lines.Line2D at 0x62216b2b0>,\n",
       " <matplotlib.lines.Line2D at 0x62216b5f8>,\n",
       " <matplotlib.lines.Line2D at 0x62216b940>]"
      ]
     },
     "execution_count": 5,
     "metadata": {},
     "output_type": "execute_result"
    },
    {
     "data": {
      "image/png": "[encoded data removed]",
      "text/plain": [
       "<Figure size 432x288 with 1 Axes>"
      ]
     },
     "metadata": {
      "needs_background": "light"
     },
     "output_type": "display_data"
    }
   ],
   "source": [
    "n = 101\n",
    "x = np.linspace(0, 1, n)\n",
    "b = np.zeros([4,n])\n",
    "for y in range(0,n):\n",
    "    b[0,y] = b0(x[y])\n",
    "    b[1,y] = b1(x[y])\n",
    "    b[2,y] = b2(x[y])\n",
    "    b[3,y] = b3(x[y])\n",
    "    \n",
    "plt.plot(x,b[0,:], x,b[1,:], x,b[2,:], x,b[3,:], x,(b[0,:]+b[1,:]+b[2,:]+b[3,:]))"
   ]
  },
  {
   "cell_type": "markdown",
   "metadata": {},
   "source": [
    "Notice the $5{th}$ line (purple), which is the sum of all $4$ bases functions, is $1$ **always**."
   ]
  },
  {
   "cell_type": "markdown",
   "metadata": {},
   "source": [
    "One interesting thing about cubic spline, which is appearent after re-arranging them, is that they can be joint to form a smooth curve. The point where they join, $([-8,0,8])$, are called **knots**, where two of the basis functions have the same values. The end-points $([-16,16])$ are evaluated to $0$."
   ]
  },
  {
   "cell_type": "code",
   "execution_count": 6,
   "metadata": {},
   "outputs": [
    {
     "data": {
      "text/plain": [
       "[<matplotlib.lines.Line2D at 0x6221f3cc0>,\n",
       " <matplotlib.lines.Line2D at 0x6221f3e10>,\n",
       " <matplotlib.lines.Line2D at 0x6221fb198>,\n",
       " <matplotlib.lines.Line2D at 0x6221fb4e0>]"
      ]
     },
     "execution_count": 6,
     "metadata": {},
     "output_type": "execute_result"
    },
    {
     "data": {
      "image/png": "[encoded data removed]",
      "text/plain": [
       "<Figure size 432x288 with 1 Axes>"
      ]
     },
     "metadata": {
      "needs_background": "light"
     },
     "output_type": "display_data"
    }
   ],
   "source": [
    "plt.plot(8*x+8,b[0,:], 8*x,b[1,:], 8*x-8,b[2,:], 8*x-16,b[3,:])"
   ]
  },
  {
   "cell_type": "markdown",
   "metadata": {},
   "source": [
    "These four polynomial piece meet at the same values such that the resulting spline is continuous across each knot. In addition, the slopes are the same: the first derivative is continuous across each knot. \n",
    "\n",
    "While it is not as clear from this figure, the second derivatives are also equal at the knots (derive it yourself!), so the cubic B-spline\n",
    "* is continuous,\n",
    "* has continuous $1^{st}$ derivative, and\n",
    "* has continuous $2^{st==nd}$ derivative, and\n",
    "\n",
    "These properties ensur that functions based on these splines will not make sudden changes that will result in warping for which there is a *tear* or a *kink*."
   ]
  },
  {
   "cell_type": "markdown",
   "metadata": {},
   "source": [
    "### Other B-splines\n",
    "\n",
    "For completness, other B-splines of degree 0, 1, 2 (and 3) are:\n",
    "\n",
    "#### piece-wise\n",
    "$\n",
    "\\begin{eqnarray}\n",
    "B_{0}(u) & = & 1, \\text{if $u_i <= u < t_{i+1}$}\\\\\n",
    "& = & 0, \\text{otherwise}\n",
    "\\end{eqnarray}\n",
    "$\n",
    "\n",
    "#### Linear\n",
    "$\n",
    "\\begin{eqnarray}\n",
    "B_{0}(u) & = & 1-u\\\\\n",
    "B_{1}(u) & = & u\n",
    "\\end{eqnarray}\n",
    "$\n",
    "\n",
    "#### Quadratic\n",
    "\n",
    "$\n",
    "\\begin{eqnarray}\n",
    "B_{0}(u) & = & u^2/2\\\\\n",
    "B_{1}(u) & = & (-2 u^2 + 2 u + 1)/2\\\\\n",
    "B_{2}(u) & = & (u^2 - 2 u + 1)/2\n",
    "\\end{eqnarray}\n",
    "$\n",
    "\n",
    "#### Cubic\n",
    "\n",
    "$\n",
    "\\begin{eqnarray}\n",
    "B_{0}(u) & = & (1-u)^3/6\\\\\n",
    "B_{1}(u) & = & (3 u^3 - 6 u^2 + 4)/6\\\\\n",
    "B_{2}(u) & = & (-3 u^3 + 3 u^2 + 3 u + 1)/6\\\\\n",
    "B_{2}(u) & = & u^3/6\\\\\n",
    "\\end{eqnarray}\n",
    "$"
   ]
  },
  {
   "cell_type": "markdown",
   "metadata": {},
   "source": [
    "#### Interpolating ($1$D) with B-Splines\n",
    "\n",
    "The reason to use B-Splines to represent deformation is because it provides a smooth interpolation, and can be easily extended to $N$-D.  Consider the following fitting problem. The basic idea is that we can approximate a sparse-sampled signal using interpolation. Using a higher degree of polynomial implies smoother interpolation.\n",
    "\n",
    "<img src=\"interpolate1.PNG\" style=\"width:600px\"/>\n",
    "<img src=\"interpolate2.PNG\" style=\"width:600px\"/>\n",
    "<img src=\"interpolate3.PNG\" style=\"width:600px\"/>\n",
    "<img src=\"interpolate4.PNG\" style=\"width:600px\"/>\n",
    "<img src=\"interpolate5.PNG\" style=\"width:600px\"/>\n",
    "<img src=\"interpolate6.PNG\" style=\"width:600px\"/>\n",
    "<img src=\"interpolate7.PNG\" style=\"width:600px\"/>\n",
    "<img src=\"interpolate8.PNG\" style=\"width:600px\"/>\n",
    "<img src=\"interpolate9.PNG\" style=\"width:600px\"/>\n",
    "<img src=\"interpolate10.PNG\" style=\"width:600px\"/>\n",
    "<img src=\"interpolate11.PNG\" style=\"width:600px\"/>\n",
    "<img src=\"interpolate12.PNG\" style=\"width:600px\"/>\n",
    "<img src=\"interpolate13.PNG\" style=\"width:600px\"/>\n",
    "<img src=\"interpolate14.PNG\" style=\"width:600px\"/>\n",
    "<img src=\"interpolate15.PNG\" style=\"width:600px\"/>\n",
    "<img src=\"interpolate16.PNG\" style=\"width:600px\"/>\n",
    "image adapted from ITK."
   ]
  },
  {
   "cell_type": "markdown",
   "metadata": {},
   "source": [
    "#### Cubic B-Splines in $2$D\n",
    "\n",
    "To extend the B-Splines in $2-$ or $3-$D, one only needs to specify a set of Cubic B-Splines for each axis.\n",
    "\n",
    "<img src=\"cb2d1.PNG\" style=\"width:600px\"/>\n",
    "<img src=\"cb2d2.PNG\" style=\"width:600px\"/>\n",
    "<img src=\"cb2d3.PNG\" style=\"width:600px\"/>"
   ]
  },
  {
   "cell_type": "markdown",
   "metadata": {},
   "source": [
    "Then\n",
    "\n",
    "<img src=\"cb2d4.PNG\" style=\"width:600px\"/>\n",
    "<img src=\"cb2d5.PNG\" style=\"width:600px\"/>\n",
    "<img src=\"cb2d6.PNG\" style=\"width:600px\"/>\n",
    "<img src=\"cb2d7.PNG\" style=\"width:600px\"/>\n",
    "<img src=\"cb2d8.PNG\" style=\"width:600px\"/>"
   ]
  },
  {
   "cell_type": "markdown",
   "metadata": {},
   "source": [
    "To apply B-Spline deformation, we first overlay a BSplines Grid with the image:\n",
    "\n",
    "<img src=\"cb2d9.PNG\" style=\"width:600px\"/>\n",
    "<img src=\"cb2d10.PNG\" style=\"width:600px\"/>\n",
    "<img src=\"cb2d11.PNG\" style=\"width:600px\"/>\n",
    "<img src=\"cb2d12.PNG\" style=\"width:600px\"/>\n",
    "<img src=\"cb2d13.PNG\" style=\"width:600px\"/>\n",
    "\n",
    "That is, because we are using Cubic B-Splines, our B-Spline grid has to be larger than the image grid.  Let us illustrate it with a numerical example."
   ]
  },
  {
   "cell_type": "markdown",
   "metadata": {},
   "source": [
    "#### Interpolation Using B-Splines\n",
    "<img src=\"Interpolation1.PNG\" style=\"width:600px\"/>\n",
    "<img src=\"Interpolation2.PNG\" style=\"width:600px\"/>\n",
    "<img src=\"Interpolation3.PNG\" style=\"width:600px\"/>\n",
    "<img src=\"Interpolation4.PNG\" style=\"width:600px\"/>\n",
    "<img src=\"Interpolation5.PNG\" style=\"width:600px\"/>"
   ]
  },
  {
   "cell_type": "markdown",
   "metadata": {},
   "source": [
    "#### Free Form Deformation\n",
    "\n",
    "\n",
    "So how is this deformation accomplished?\n",
    "\n",
    "<img src=\"cb2d12_arrow.PNG\" style=\"width:600px\"/>\n",
    "\n",
    "Imaging the original image has a grid overlayed, and the displacement of a control point is denoted by a vector $(dx,dy)$. Let us define the following terms so we can work out the math:\n",
    "\n",
    "* $\\Omega$ - the image, rectangular, domain\n",
    "* $(x,y)$ - index to the image (in $2$D), thus\n",
    "  * $\\Omega = {(x,y) | 0 \\le x < m, 0 \\le y < n}$,\n",
    "  * $m$, and $n$ are the number of pixels in the respective axis,\n",
    "* $\\Phi$ - the control lattice overlaid on the domain $\\Omega$.\n",
    "  * If the spacing of $\\Phi$ is $1$, then $\\Phi$ is an $(m+3)\\times (n+3)$ lattice which spans the integer grid in $\\Omega$:\n",
    "<img src=\"controlLattice.PNG\" style=\"width:400px\"/>\n",
    "* Let $\\phi{ij}$ be the value of the $ij^{th}$ control point on lattice $\\Phi$ located at $(i,j)$ for $i=-1,0,\\cdots,m+1$ and $j=-1,0,\\cdots,n+1$, then the approximation function $f$ is defined in terms of these control points by\n",
    "\n",
    "$\n",
    "f(x,y) = \\sum_{k=-1}^2 \\sum_{l=-1}^2 B_{k}(s) B_{l}(t) \\phi_{(i+k)(j+l)}\n",
    "$\n",
    "where\n",
    "  * $i = \\lfloor x \\rfloor -1$,\n",
    "  * $j = \\lfloor y \\rfloor -1$,  \n",
    "  * $s = x - \\lfloor x \\rfloor $,\n",
    "  * $t = y - \\lfloor y \\rfloor $,\n",
    "  * $B_{k}$ and $B_{l}$ are uniform cubic B-spline basis functions (defined above already, but re-defined here with different subscript):\n",
    "\n",
    "$\n",
    "\\begin{eqnarray}\n",
    "B_{-1}(t) & = & (1-t)^3/6\\\\\n",
    "B_{0}(t) & = & (3 t^3 - 6 t^2 + 4)/6\\\\\n",
    "B_{1}(t) & = & (-3 t^3 + 3 t^2 + 3 t + 1)/6\\\\\n",
    "B_{2}(t) & = & t^3/6\\\\\n",
    "\\end{eqnarray}\n",
    "$\n",
    "\n",
    "where $0 \\le t < 1$. They serve to weight the contribution of each control point to $f(x,y)$ based on its distance to $(x,y)$."
   ]
  },
  {
   "cell_type": "markdown",
   "metadata": {},
   "source": [
    "**IF** the spacing between control point is greater than $1$, then we need to modify the index. Assume the spacing is $\\delta_x$ in the $x$-axis and $\\delta_y$ in the $y$-axis, then\n",
    "$\n",
    "\\begin{eqnarray}\n",
    "i & = &\\lfloor \\frac{x}{\\delta_x} \\rfloor -1\\\\\n",
    "j & = &\\lfloor \\frac{y}{\\delta_y} \\rfloor -1\\\\\n",
    "s & = & \\frac{x}{\\delta_x} - \\lfloor \\frac{x}{\\delta_x} \\rfloor\\\\\n",
    "t & = & \\frac{y}{\\delta_y} - \\lfloor \\frac{y}{\\delta_y} \\rfloor\\\\\n",
    "\\end{eqnarray}\n",
    "$\n",
    "\n",
    "That is, $(s,t)$ specifies the *local* coordinate of a point with respect to the control lattice, and $(i,j)$ is the index to the control points on the lattice.\n",
    "<img src=\"FFD_coord.PNG\" style=\"width:400px\"/>\n",
    "<img src=\"FFD_local_coord.PNG\" style=\"width:400px\"/>"
   ]
  },
  {
   "cell_type": "markdown",
   "metadata": {},
   "source": [
    "#### Numerical Example\n",
    "\n",
    "A regular grid of control points with equal spacing of $10$mm in both of $x$ and $y$ directions is shown in the following figure where the control points are labelled from $1$ to $16$:\n",
    "<img src=\"FFD_example1.PNG\" style=\"width:300px\"/>"
   ]
  },
  {
   "cell_type": "markdown",
   "metadata": {},
   "source": [
    "This grid is laid over an image to perform image registration using FFD with cubic B-Splines. Assume that in one iteration, only control points $6$, $7$, $10$, and $11$ moved from the current coordinates as follows while the coordinates of all other control points remain unchanged:\n",
    "* Point 6: from $(20,20)$ to $(17.5,17.5)$\n",
    "* Point 7: from $(30,20)$ to $(27.5,22.5)$\n",
    "* Point 10: from $(20,30)$ to $(22.5,27.5)$\n",
    "* Point 11: from $(30,30)$ to $(35,35)$\n",
    "\n",
    "Where is the new coordinate of point $C(25,25)$ located in the centre of the grid?"
   ]
  },
  {
   "cell_type": "code",
   "execution_count": 19,
   "metadata": {},
   "outputs": [
    {
     "name": "stdout",
     "output_type": "stream",
     "text": [
      "0.5 0.5 1.0 1.0 1.0\n"
     ]
    }
   ],
   "source": [
    "# first of, calculate all indices\n",
    "x = 25\n",
    "y = 25\n",
    "dx = 10\n",
    "dy = 10\n",
    "i = np.floor(x/dx)-1\n",
    "j = np.floor(y/dy)-1\n",
    "u = x/dx - np.floor(x/dx)\n",
    "v = y/dy - np.floor(y/dy)\n",
    "#floor  是用来取底的\n",
    "print(u,v,i,j,np.floor(5/3))"
   ]
  },
  {
   "cell_type": "code",
   "execution_count": 17,
   "metadata": {},
   "outputs": [
    {
     "name": "stdout",
     "output_type": "stream",
     "text": [
      "[0.02083333 0.47916667 0.47916667 0.02083333]\n",
      "[0.02083333 0.47916667 0.47916667 0.02083333]\n",
      "[[0.00043403 0.00998264 0.00998264 0.00043403]\n",
      " [0.00998264 0.22960069 0.22960069 0.00998264]\n",
      " [0.00998264 0.22960069 0.22960069 0.00998264]\n",
      " [0.00043403 0.00998264 0.00998264 0.00043403]]\n",
      "[[0.00043403 0.00998264 0.00998264 0.00043403 0.00998264 0.22960069\n",
      "  0.22960069 0.00998264 0.00998264 0.22960069 0.22960069 0.00998264\n",
      "  0.00043403 0.00998264 0.00998264 0.00043403]]\n"
     ]
    }
   ],
   "source": [
    "# evaluate the basis functions\n",
    "Bu = np.array([b0(u), b1(u), b2(u), b3(u)])\n",
    "Bv = np.array([b0(v), b1(v), b2(v), b3(v)])\n",
    "print(Bu)\n",
    "print(Bv)\n",
    "Buv = np.reshape(Bu,[4,1])*Bv \n",
    "print(Buv) # 4x4\n",
    "Buv = np.reshape(Buv,[1,16]) \n",
    "print(Buv) # 1x16"
   ]
  },
  {
   "cell_type": "code",
   "execution_count": 12,
   "metadata": {},
   "outputs": [
    {
     "name": "stdout",
     "output_type": "stream",
     "text": [
      "[[ 0.   0. ]\n",
      " [ 0.   0. ]\n",
      " [ 0.   0. ]\n",
      " [ 0.   0. ]\n",
      " [ 0.   0. ]\n",
      " [-2.5 -2.5]\n",
      " [-2.5  2.5]\n",
      " [ 0.   0. ]\n",
      " [ 0.   0. ]\n",
      " [ 2.5 -2.5]\n",
      " [ 5.   5. ]\n",
      " [ 0.   0. ]\n",
      " [ 0.   0. ]\n",
      " [ 0.   0. ]\n",
      " [ 0.   0. ]\n",
      " [ 0.   0. ]]\n"
     ]
    }
   ],
   "source": [
    "# define the displacement vectors\n",
    "displacements = np.zeros([16,2])\n",
    "displacements[ 5,:] = [-2.5, -2.5]\n",
    "displacements[ 6,:] = [-2.5,  2.5]\n",
    "displacements[ 9,:] = [ 2.5, -2.5]\n",
    "displacements[10,:] = [ 5,    5]\n",
    "print(displacements)"
   ]
  },
  {
   "cell_type": "code",
   "execution_count": 13,
   "metadata": {},
   "outputs": [
    {
     "name": "stdout",
     "output_type": "stream",
     "text": [
      "The displacement vector is  [[0.57400174 0.57400174]]\n",
      "The new coordinates of the point C(25,25) is ( 25.57400173611111 , 25.57400173611111 )\n"
     ]
    }
   ],
   "source": [
    "disp = np.matmul(Buv,displacements)\n",
    "\n",
    "print('The displacement vector is ', disp)\n",
    "print('The new coordinates of the point C(25,25) is (',x+disp[0,0], ',', y+disp[0,1],')')"
   ]
  },
  {
   "cell_type": "markdown",
   "metadata": {},
   "source": [
    "Note that in order to deform a given point, we need a neighbourhood of $4\\times 4$ control points. This is because the Cubic B-Splines were used."
   ]
  },
  {
   "cell_type": "markdown",
   "metadata": {},
   "source": [
    "**Exercise**:  Change these displacement vectors artificially and examine the behaviour. Does a displaced control point always go to where you think it should?"
   ]
  },
  {
   "cell_type": "markdown",
   "metadata": {},
   "source": [
    "### Nonrigid Registration Using FFD\n",
    "\n",
    "Now we understood how to use FFD with B-Spline to deform an image, we can examine how to use it for non-rigid registration. The paper:\n",
    "\n",
    "[Rueckert et al.,\n",
    "**Nonrigid registration using free-form deformations: application to breast MR images**,\n",
    "*IEEE Transactions on Medical Imaging*,\n",
    "18(8):712-721, 1999](http://ieeexplore.ieee.org/document/796284/)\n",
    "\n",
    "is perhaps the first paper in the medical domain that incorporated FFD with an image similarity metric for image registration. The deformable transformation they seek is:\n",
    "\n",
    "$\n",
    "T(x,y,z) = T_{\\text{global}}(x,y,z) + T_{\\text{local}}(x,y,z)\n",
    "$\n",
    "\n",
    "where $T_{\\text{global}}$ is the affine transformation:\n",
    "\n",
    "$\n",
    "T_{\\text{global}}(x,y,z) = \\begin{pmatrix}\n",
    "\\theta_{11} & \\theta_{12} & \\theta_{13} \\\\\n",
    "\\theta_{21} & \\theta_{22} & \\theta_{23} \\\\\n",
    "\\theta_{31} & \\theta_{32} & \\theta_{33} \\\\\n",
    "\\end{pmatrix}\n",
    "\\begin{pmatrix}\n",
    "x\\\\y\\\\z\\end{pmatrix} +\\begin{pmatrix}\n",
    "\\theta_{14}\\\\\\theta_{24}\\\\\\theta_{34}\\end{pmatrix}\n",
    "$\n",
    "\n",
    "where the affine coefficients are denoted as $\\Theta$."
   ]
  },
  {
   "cell_type": "markdown",
   "metadata": {},
   "source": [
    "The local transform is the deformation as defined by the control points. Denote $\\Phi$ as the $n_x \\times n_y \\times n_z$ lattice of control points $\\theta_{i,j,k}$ with uniform spacing $\\delta$, then the local transform is the FFD written as the $3$D tensor product of the $1$D cubic B-Splines:\n",
    "\n",
    "$\n",
    "T_{\\text{local}}(x,y,z) =\n",
    "\\sum_{l=0}^3 \\sum_{m=0}^3 \\sum_{n=0}^3\n",
    "B_{l}(u) B_{m}(v) B_{n}(w) \\theta_{i+l,j+m,k+n}\n",
    "$\n",
    "\n",
    "where\n",
    "\n",
    "$\n",
    "\\begin{eqnarray}\n",
    "i  & = & \\lfloor \\frac{x}{\\delta} \\rfloor -1 \\\\\n",
    "j  & = & \\lfloor \\frac{y}{\\delta} \\rfloor -1 \\\\\n",
    "k  & = & \\lfloor \\frac{z}{\\delta} \\rfloor -1 \\\\\n",
    "u & = & \\frac{x}{\\delta} - \\lfloor \\frac{x}{\\delta} \\rfloor\\\\\n",
    "v & = & \\frac{y}{\\delta} - \\lfloor \\frac{y}{\\delta} \\rfloor\\\\\n",
    "w & = & \\frac{z}{\\delta} - \\lfloor \\frac{z}{\\delta} \\rfloor\\\\\n",
    "\\end{eqnarray}\n",
    "$\n",
    "\n",
    "**Note**: even though in the paper by Rueckert et al. they assumed uniform spacing $\\delta$, it is not strickly required. In practice, however, $\\delta$ is set to $2^a$, such that a finer control point lattice can be divided/derived easily."
   ]
  },
  {
   "cell_type": "markdown",
   "metadata": {},
   "source": [
    "The control points $\\Phi$ acts as parameters of the B-Spline FFD and the degree of non-rigid deformation which can be modelled depends on the resolution of the mesh of the control oints $\\Phi$:\n",
    "* A large $\\delta$ allows modelling of global non-rigid deformations,\n",
    "* A small $\\delta$ allows modeling of highly local non-rigid deformation,\n",
    "* However, $\\delta$ defines the DoF!\n",
    "  * A B-Spline FFD defined by a $10\\times 10\\times 10$ mesh of control points yields a transformation with $3,000$ DoF.\n",
    "* Thus, a hierarchical multi-resolution approach is often used where one starts with a coarse grid; when no further deformation is achieved, the grid is sub-divided into finer grid to model further local deformations.\n",
    "  * hence $\\delta$ is often set to $2^a$."
   ]
  },
  {
   "cell_type": "markdown",
   "metadata": {},
   "source": [
    "#### Similarity metric\n",
    "\n",
    "While in this paper the Mutual Information (MI) is used as the similarity metric:\n",
    "\n",
    "$\n",
    "C_{\\text{similarity}}(A,B) = \\frac{H(A)+H(B)}{H(A,B)}\n",
    "$\n",
    "\n",
    "In SimpleITK we can use any similarity metric. One reason MI was used in this paper is because the changing of image contrast due to the injection of contrast agent into the breast tissue. Other metrics such as SSD will not work in this case.\n",
    "\n",
    "Define a cost function:\n",
    "\n",
    "$\n",
    "C(\\Theta,\\Phi) = -C_{\\text{similarity}}(I(t_0), T(I(t))) + \\lambda C_{\\text{smooth}}(T)     ::C cost function\n",
    "$\n",
    "\n",
    "where $\\lambda$ is a weighting factor, and $C_{\\text{smooth}}$ is a panelty term that corresponds to the bending of a thin-plate of metal, which encourage smooth transformation. The term $\\lambda C_{\\text{smooth}}(T)$ is serves as a regularizer"
   ]
  },
  {
   "cell_type": "markdown",
   "metadata": {},
   "source": [
    "#### Optimization\n",
    "\n",
    "The deformation registartion with B-Spline FFS is perform in several stages:\n",
    "\n",
    "- **calaulate** the optimal affine transformation parameter $\\Theta$ that maximizes a similarity metric $C_{\\text{Similarity}}(A,B)$,\n",
    "- **initialize** the control points $\\Phi$ (coarse resolution),\n",
    "- **repeat**\n",
    "  - **calculate** the gradient vector of the cost function with respect to the non-rigid transformation parameters $\\Phi$: $\\bigtriangledown C = \\frac{\\delta C(\\Theta,\\Phi)}{\\delta \\Phi}$\n",
    "  - **while** $\\parallel \\bigtriangledown C\\parallel > \\epsilon$ \n",
    "    - **update** the control points $\\Phi = \\Phi+ \\mu \\frac{\\bigtriangledown C}{\\parallel \\bigtriangledown C \\parallel} $\n",
    "    - **recalculate** the gradient vector $\\bigtriangledown C$\n",
    "  - **increase** the control point resolution\n",
    "  - **increase** the image resolution\n",
    "- **until** the finest level of resolution is reached.\n",
    "\n",
    "<img src=\"BSpline_Subdivision.PNG\" style=\"width:900px\"/>"
   ]
  },
  {
   "cell_type": "markdown",
   "metadata": {},
   "source": [
    "#### SimpleITK example\n",
    "\n",
    "While this sounds complicated, in SimpleITK all we need to do is to change the type of Transform in the registration framework. \n",
    "\n",
    "The following notebook illustrates the use of the Free Form Deformation (FFD) based non-rigid registration algorithm in SimpleITK.\n",
    "\n",
    "The data we work with is a $4$D ($3$D + time) thoracic-abdominal CT, the Point-validated Pixel-based Breasthing Thorax Model (POPI) model. These data consist of a set of temporal CT volumes, a set of masks segmenting each of the CTs to air/body/lung, and a set of corresponding points across the CT volume."
   ]
  },
  {
   "cell_type": "markdown",
   "metadata": {},
   "source": [
    "\n",
    "The POPI model is provided by the Léon Bérard Cancer Center & CREATIS Laboratory, Lyon, France. The relevant publication is:\n",
    "\n",
    "J. Vandemeulebroucke, D. Sarrut, P. Clarysse, \"The POPI-model, a point-validated pixel-based breathing thorax model\",\n",
    "Proc. XVth International Conference on the Use of Computers in Radiation Therapy (ICCR), Toronto, Canada, 2007.\n",
    "\n",
    "The POPI data, and additional 4D CT data sets with reference points are available from the CREATIS Laboratory <a href=\"http://www.creatis.insa-lyon.fr/rio/popi-model?action=show&redirect=popi\">here</a>. "
   ]
  },
  {
   "cell_type": "markdown",
   "metadata": {},
   "source": [
    "## Utilities\n",
    "\n",
    "Load utilities that are specific to the POPI data, functions for loading ground truth data, display and the labels for masks."
   ]
  },
  {
   "cell_type": "code",
   "execution_count": 14,
   "metadata": {},
   "outputs": [],
   "source": [
    "%run popi_utilities_setup.py"
   ]
  },
  {
   "cell_type": "markdown",
   "metadata": {},
   "source": [
    "## Loading Data\n",
    "\n",
    "Load all of the images, masks and point data into corresponding lists. If the data is not available locally it will be downloaded from the original remote repository. \n",
    "\n",
    "Take a look at the images. According to the documentation on the POPI site, volume number one corresponds to end inspiration (maximal air volume)."
   ]
  },
  {
   "cell_type": "code",
   "execution_count": 15,
   "metadata": {},
   "outputs": [
    {
     "name": "stdout",
     "output_type": "stream",
     "text": [
      "Fetching POPI/meta/00-P.mhd\n",
      "Fetching POPI/masks/00-air-body-lungs.mhd\n",
      "Fetching POPI/landmarks/00-Landmarks.pts\n",
      "Fetching POPI/meta/10-P.mhd\n",
      "Fetching POPI/masks/10-air-body-lungs.mhd\n",
      "Downloaded 24473600 of 24473600 bytes (100.00%)\n",
      "Fetching POPI/landmarks/10-Landmarks.pts\n",
      "Downloaded 727 of 727 bytes (100.00%)\n",
      "Fetching POPI/meta/20-P.mhd\n",
      "Downloaded 48936960 of 48936960 bytes (100.00%)\n",
      "Fetching POPI/masks/20-air-body-lungs.mhd\n",
      "Downloaded 24473600 of 24473600 bytes (100.00%)\n",
      "Fetching POPI/landmarks/20-Landmarks.pts\n",
      "Downloaded 712 of 712 bytes (100.00%)\n",
      "Fetching POPI/meta/30-P.mhd\n",
      "Downloaded 48936960 of 48936960 bytes (100.00%)\n",
      "Fetching POPI/masks/30-air-body-lungs.mhd\n",
      "Downloaded 24473600 of 24473600 bytes (100.00%)\n",
      "Fetching POPI/landmarks/30-Landmarks.pts\n",
      "Downloaded 713 of 713 bytes (100.00%)\n",
      "Fetching POPI/meta/40-P.mhd\n",
      "Downloaded 48936960 of 48936960 bytes (100.00%)\n",
      "Fetching POPI/masks/40-air-body-lungs.mhd\n",
      "Downloaded 24473600 of 24473600 bytes (100.00%)\n",
      "Fetching POPI/landmarks/40-Landmarks.pts\n",
      "Downloaded 714 of 714 bytes (100.00%)\n",
      "Fetching POPI/meta/50-P.mhd\n",
      "Downloaded 48936960 of 48936960 bytes (100.00%)\n",
      "Fetching POPI/masks/50-air-body-lungs.mhd\n",
      "Downloaded 24473600 of 24473600 bytes (100.00%)\n",
      "Fetching POPI/landmarks/50-Landmarks.pts\n",
      "Downloaded 719 of 719 bytes (100.00%)\n",
      "Fetching POPI/meta/60-P.mhd\n",
      "Downloaded 48936960 of 48936960 bytes (100.00%)\n",
      "Fetching POPI/masks/60-air-body-lungs.mhd\n",
      "Downloaded 24473600 of 24473600 bytes (100.00%)\n",
      "Fetching POPI/landmarks/60-Landmarks.pts\n",
      "Downloaded 729 of 729 bytes (100.00%)\n",
      "Fetching POPI/meta/70-P.mhd\n",
      "Downloaded 48936960 of 48936960 bytes (100.00%)\n",
      "Fetching POPI/masks/70-air-body-lungs.mhd\n",
      "Downloaded 24473600 of 24473600 bytes (100.00%)\n",
      "Fetching POPI/landmarks/70-Landmarks.pts\n",
      "Downloaded 716 of 716 bytes (100.00%)\n",
      "Fetching POPI/meta/80-P.mhd\n",
      "Downloaded 48936960 of 48936960 bytes (100.00%)\n",
      "Fetching POPI/masks/80-air-body-lungs.mhd\n",
      "Downloaded 24473600 of 24473600 bytes (100.00%)\n",
      "Fetching POPI/landmarks/80-Landmarks.pts\n",
      "Downloaded 718 of 718 bytes (100.00%)\n",
      "Fetching POPI/meta/90-P.mhd\n",
      "Downloaded 48936960 of 48936960 bytes (100.00%)\n",
      "Fetching POPI/masks/90-air-body-lungs.mhd\n",
      "Downloaded 24473600 of 24473600 bytes (100.00%)\n",
      "Fetching POPI/landmarks/90-Landmarks.pts\n",
      "Downloaded 711 of 711 bytes (100.00%)\n"
     ]
    },
    {
     "data": {
      "application/vnd.jupyter.widget-view+json": {
       "model_id": "3d42075b9801424eb03a85a198b8e276",
       "version_major": 2,
       "version_minor": 0
      },
      "text/plain": [
       "interactive(children=(IntSlider(value=4, description='temporal_slice', max=9), IntSlider(value=179, descriptio…"
      ]
     },
     "metadata": {},
     "output_type": "display_data"
    }
   ],
   "source": [
    "images = []\n",
    "masks = []\n",
    "points = []\n",
    "for i in range(0,10):\n",
    "    image_file_name = 'POPI/meta/{0}0-P.mhd'.format(i)\n",
    "    mask_file_name = 'POPI/masks/{0}0-air-body-lungs.mhd'.format(i)\n",
    "    points_file_name = 'POPI/landmarks/{0}0-Landmarks.pts'.format(i)\n",
    "    images.append(sitk.ReadImage(fdata(image_file_name), sitk.sitkFloat32)) #read and cast to format required for registration\n",
    "    masks.append(sitk.ReadImage(fdata(mask_file_name)))\n",
    "    points.append(read_POPI_points(fdata(points_file_name)))\n",
    "        \n",
    "interact(display_coronal_with_overlay, temporal_slice=(0,len(images)-1), \n",
    "         coronal_slice = (0, images[0].GetSize()[1]-1), \n",
    "         images = fixed(images), masks = fixed(masks), \n",
    "         label=fixed(lung_label), window_min = fixed(-1024), window_max=fixed(976));"
   ]
  },
  {
   "cell_type": "markdown",
   "metadata": {},
   "source": [
    "### Getting to know your data\n",
    "\n",
    "While the POPI site states that image number 1 is end inspiration, and visual inspection seems to suggest this is correct, we should probably take a look at the lung volumes to ensure that what we expect is indeed what is happening.\n",
    "\n",
    "Which image is end inspiration and which end expiration?"
   ]
  },
  {
   "cell_type": "code",
   "execution_count": 20,
   "metadata": {},
   "outputs": [
    {
     "name": "stdout",
     "output_type": "stream",
     "text": [
      "Lung volume in image 0 is 5.455734929689075 liters.\n",
      "Lung volume in image 1 is 5.527017905172941 liters.\n",
      "Lung volume in image 2 is 5.554014379499289 liters.\n",
      "Lung volume in image 3 is 5.451784830895104 liters.\n",
      "Lung volume in image 4 is 5.301415956621658 liters.\n",
      "Lung volume in image 5 is 5.191841246039885 liters.\n",
      "Lung volume in image 6 is 5.09130732168864 liters.\n",
      "Lung volume in image 7 is 5.11128669632256 liters.\n",
      "Lung volume in image 8 is 5.195802788867059 liters.\n",
      "Lung volume in image 9 is 5.335378032491021 liters.\n"
     ]
    }
   ],
   "source": [
    "label_shape_statistics_filter = sitk.LabelShapeStatisticsImageFilter()\n",
    "\n",
    "for i, mask in enumerate(masks):\n",
    "    label_shape_statistics_filter.Execute(mask)\n",
    "    print('Lung volume in image {0} is {1} liters.'.format(i,0.000001*label_shape_statistics_filter.GetPhysicalSize(lung_label)))"
   ]
  },
  {
   "cell_type": "markdown",
   "metadata": {},
   "source": [
    "## Free Form Deformation\n",
    "\n",
    "This function will align the fixed and moving images using a FFD. If given a mask, the similarity metric will be evaluated using points sampled inside the mask. If given fixed and moving points the similarity metric value and the target registration errors will be displayed during registration. \n",
    "\n",
    "As this notebook performs intra-modal registration, we use the MeanSquares similarity metric (simple to compute and appropriate for the task)."
   ]
  },
  {
   "cell_type": "code",
   "execution_count": 21,
   "metadata": {},
   "outputs": [],
   "source": [
    "def bspline_intra_modal_registration(fixed_image, moving_image, fixed_image_mask=None, fixed_points=None, moving_points=None):\n",
    "\n",
    "    registration_method = sitk.ImageRegistrationMethod()\n",
    "    \n",
    "    # Determine the number of BSpline control points using the physical spacing we want for the control grid. \n",
    "    grid_physical_spacing = [50.0, 50.0, 50.0] # A control point every 50mm\n",
    "    image_physical_size = [size*spacing for size,spacing in zip(fixed_image.GetSize(), fixed_image.GetSpacing())]\n",
    "    mesh_size = [int(image_size/grid_spacing + 0.5) \\\n",
    "                 for image_size,grid_spacing in zip(image_physical_size,grid_physical_spacing)]\n",
    "\n",
    "    initial_transform = sitk.BSplineTransformInitializer(image1 = fixed_image, \n",
    "                                                         transformDomainMeshSize = mesh_size, order=3)    \n",
    "    registration_method.SetInitialTransform(initial_transform)\n",
    "        \n",
    "    registration_method.SetMetricAsMeanSquares()\n",
    "    # Settings for metric sampling, usage of a mask is optional. When given a mask the sample points will be \n",
    "    # generated inside that region. Also, this implicitly speeds things up as the mask is smaller than the\n",
    "    # whole image.\n",
    "    registration_method.SetMetricSamplingStrategy(registration_method.RANDOM)\n",
    "    registration_method.SetMetricSamplingPercentage(0.01)\n",
    "    if fixed_image_mask:\n",
    "        registration_method.SetMetricFixedMask(fixed_image_mask)\n",
    "    \n",
    "    # Multi-resolution framework.            \n",
    "    registration_method.SetShrinkFactorsPerLevel(shrinkFactors = [4,2,1])\n",
    "    registration_method.SetSmoothingSigmasPerLevel(smoothingSigmas=[2,1,0])\n",
    "    registration_method.SmoothingSigmasAreSpecifiedInPhysicalUnitsOn()\n",
    "\n",
    "    registration_method.SetInterpolator(sitk.sitkLinear)\n",
    "    registration_method.SetOptimizerAsLBFGSB(gradientConvergenceTolerance=1e-5, numberOfIterations=100)\n",
    "    \n",
    "\n",
    "    # If corresponding points in the fixed and moving image are given then we display the similarity metric\n",
    "    # and the TRE during the registration.\n",
    "    if fixed_points and moving_points:\n",
    "        registration_method.AddCommand(sitk.sitkStartEvent, rc.metric_and_reference_start_plot)\n",
    "        registration_method.AddCommand(sitk.sitkEndEvent, rc.metric_and_reference_end_plot)\n",
    "        registration_method.AddCommand(sitk.sitkIterationEvent, lambda: rc.metric_and_reference_plot_values(registration_method, fixed_points, moving_points))\n",
    "    \n",
    "    return registration_method.Execute(fixed_image, moving_image)"
   ]
  },
  {
   "cell_type": "markdown",
   "metadata": {},
   "source": [
    "## Perform Registration\n",
    "\n",
    "The following cell allows you to select the images used for registration, runs the registration, and afterwards computes statistics comparing the target registration errors before and after registration and displays a histogram of the TREs.\n",
    "\n",
    "To time the registration, uncomment the timeit magic. \n",
    "<b>Note</b>: this creates a separate scope for the cell. Variables set inside the cell, specifically tx, will become local variables and thus their value is not available in other cells. "
   ]
  },
  {
   "cell_type": "code",
   "execution_count": 22,
   "metadata": {},
   "outputs": [
    {
     "data": {
      "image/png": "[encoded data removed]",
      "text/plain": [
       "<Figure size 432x288 with 2 Axes>"
      ]
     },
     "metadata": {
      "needs_background": "light"
     },
     "output_type": "display_data"
    },
    {
     "name": "stdout",
     "output_type": "stream",
     "text": [
      "Initial alignment errors in millimeters, mean(std): 5.07(2.67), max: 14.02\n",
      "Final alignment errors in millimeters, mean(std): 1.55(0.87), max: 4.78\n"
     ]
    },
    {
     "data": {
      "image/png": "[encoded data removed]",
      "text/plain": [
       "<Figure size 432x288 with 1 Axes>"
      ]
     },
     "metadata": {
      "needs_background": "light"
     },
     "output_type": "display_data"
    }
   ],
   "source": [
    "#%%timeit -r1 -n1\n",
    "\n",
    "# Select the fixed and moving images, valid entries are in [0,9].\n",
    "fixed_image_index = 0\n",
    "moving_image_index = 7\n",
    "\n",
    "\n",
    "tx = bspline_intra_modal_registration(fixed_image = images[fixed_image_index], \n",
    "                                      moving_image = images[moving_image_index],\n",
    "                                      fixed_image_mask = (masks[fixed_image_index] == lung_label),\n",
    "                                      fixed_points = points[fixed_image_index], \n",
    "                                      moving_points = points[moving_image_index]\n",
    "                                     )\n",
    "initial_errors_mean, initial_errors_std, _, initial_errors_max, initial_errors = ru.registration_errors(sitk.Euler3DTransform(), points[fixed_image_index], points[moving_image_index])\n",
    "final_errors_mean, final_errors_std, _, final_errors_max, final_errors = ru.registration_errors(tx, points[fixed_image_index], points[moving_image_index])\n",
    "\n",
    "plt.hist(initial_errors, bins=20, alpha=0.5, label='before registration', color='blue')\n",
    "plt.hist(final_errors, bins=20, alpha=0.5, label='after registration', color='green')\n",
    "plt.legend()\n",
    "plt.title('TRE histogram');\n",
    "print('Initial alignment errors in millimeters, mean(std): {:.2f}({:.2f}), max: {:.2f}'.format(initial_errors_mean, initial_errors_std, initial_errors_max))\n",
    "print('Final alignment errors in millimeters, mean(std): {:.2f}({:.2f}), max: {:.2f}'.format(final_errors_mean, final_errors_std, final_errors_max))"
   ]
  },
  {
   "cell_type": "markdown",
   "metadata": {},
   "source": [
    "Another option for evaluating the registration is to use segmentation. In this case, we transfer the segmentation from one image to the other and compare the overlaps, both visually, and quantitatively.\n",
    "\n",
    "<b>Note</b>: A more detailed version of the approach described here can be found in the [Segmentation Evaluation notebook](34_Segmentation_Evaluation.ipynb)."
   ]
  },
  {
   "cell_type": "code",
   "execution_count": 23,
   "metadata": {},
   "outputs": [
    {
     "data": {
      "application/vnd.jupyter.widget-view+json": {
       "model_id": "339bf5b3c0b84f8b9d5f91371075d214",
       "version_major": 2,
       "version_minor": 0
      },
      "text/plain": [
       "interactive(children=(IntSlider(value=179, description='coronal_slice', max=359), IntSlider(value=0, descripti…"
      ]
     },
     "metadata": {},
     "output_type": "display_data"
    },
    {
     "name": "stdout",
     "output_type": "stream",
     "text": [
      "Dice coefficient before registration: 0.94\n",
      "Dice coefficient after registration: 0.97\n",
      "Hausdorff distance before registration: 18.04\n",
      "Hausdorff distance after registration: 12.51\n"
     ]
    }
   ],
   "source": [
    "# Transfer the segmentation via the estimated transformation. Use Nearest Neighbor interpolation to retain the labels.\n",
    "transformed_labels = sitk.Resample(masks[moving_image_index],\n",
    "                             不      images[fixed_image_index],\n",
    "                                   tx, \n",
    "                                   sitk.sitkNearestNeighbor,\n",
    "                                   0.0, \n",
    "                                   masks[moving_image_index].GetPixelID())\n",
    "\n",
    "segmentations_before_and_after = [masks[moving_image_index], transformed_labels]\n",
    "interact(display_coronal_with_label_maps_overlay, coronal_slice = (0, images[0].GetSize()[1]-1),\n",
    "         mask_index=(0,len(segmentations_before_and_after)-1),\n",
    "         image = fixed(images[fixed_image_index]), masks = fixed(segmentations_before_and_after), \n",
    "         label=fixed(lung_label), window_min = fixed(-1024), window_max=fixed(976));\n",
    "\n",
    "# Compute the Dice coefficient and Hausdorff distance between the segmentations before, and after registration.\n",
    "ground_truth = masks[fixed_image_index] == lung_label\n",
    "before_registration = masks[moving_image_index] == lung_label\n",
    "after_registration = transformed_labels == lung_label\n",
    "\n",
    "label_overlap_measures_filter = sitk.LabelOverlapMeasuresImageFilter()\n",
    "label_overlap_measures_filter.Execute(ground_truth, before_registration)\n",
    "print(\"Dice coefficient before registration: {:.2f}\".format(label_overlap_measures_filter.GetDiceCoefficient()))\n",
    "label_overlap_measures_filter.Execute(ground_truth, after_registration)\n",
    "print(\"Dice coefficient after registration: {:.2f}\".format(label_overlap_measures_filter.GetDiceCoefficient()))\n",
    "\n",
    "hausdorff_distance_image_filter = sitk.HausdorffDistanceImageFilter()\n",
    "hausdorff_distance_image_filter.Execute(ground_truth, before_registration)\n",
    "print(\"Hausdorff distance before registration: {:.2f}\".format(hausdorff_distance_image_filter.GetHausdorffDistance()))\n",
    "hausdorff_distance_image_filter.Execute(ground_truth, after_registration)\n",
    "print(\"Hausdorff distance after registration: {:.2f}\".format(hausdorff_distance_image_filter.GetHausdorffDistance()))"
   ]
  },
  {
   "cell_type": "markdown",
   "metadata": {},
   "source": [
    "#### Medical Examples with animation\n",
    "\n",
    "Let us go back to the breast imaging with contrast agents:\n",
    "\n",
    "\n",
    "This is an image of the breast (left) Before injection of the contrast agent, (middle) after the injection of the contrast agent, and (right) the difference between the two mages **without** registration,\n",
    "<img src=\"FFD_breast1.PNG\" style=\"width:800px\"/>\n",
    "\n",
    "The following images are (left) after rigid registarion, (middle) after affine registration, and (right) after nonrigid registration. The corresponding difference images are shown below.\n",
    "<img src=\"FFD_breast2.PNG\" style=\"width:800px\"/>\n",
    "<img src=\"FFD_breast3.PNG\" style=\"width:800px\"/>"
   ]
  },
  {
   "cell_type": "markdown",
   "metadata": {},
   "source": [
    "#### NO registration"
   ]
  },
  {
   "cell_type": "code",
   "execution_count": 24,
   "metadata": {
    "scrolled": true
   },
   "outputs": [
    {
     "data": {
      "text/html": [
       "<div align=\"middle\">\n",
       "<video width=\"40%\" controls>\n",
       "      <source src=\"Movie_Post.m4v\" type=\"video/mp4\">\n",
       "</video></div>\n"
      ],
      "text/plain": [
       "<IPython.core.display.HTML object>"
      ]
     },
     "metadata": {},
     "output_type": "display_data"
    }
   ],
   "source": [
    "%%HTML\n",
    "<div align=\"middle\">\n",
    "<video width=\"40%\" controls>\n",
    "      <source src=\"Movie_Post.m4v\" type=\"video/mp4\">\n",
    "</video></div>"
   ]
  },
  {
   "cell_type": "markdown",
   "metadata": {},
   "source": [
    "#### Rigid Registration\n",
    "\n",
    "This is the **difference** image/volume after a *rigid* registration."
   ]
  },
  {
   "cell_type": "code",
   "execution_count": 25,
   "metadata": {},
   "outputs": [
    {
     "data": {
      "text/html": [
       "<div align=\"middle\">\n",
       "<video width=\"40%\" controls>\n",
       "      <source src=\"Movie_Rigid.m4v\" type=\"video/mp4\">\n",
       "</video></div>\n"
      ],
      "text/plain": [
       "<IPython.core.display.HTML object>"
      ]
     },
     "metadata": {},
     "output_type": "display_data"
    }
   ],
   "source": [
    "%%HTML\n",
    "<div align=\"middle\">\n",
    "<video width=\"40%\" controls>\n",
    "      <source src=\"Movie_Rigid.m4v\" type=\"video/mp4\">\n",
    "</video></div>"
   ]
  },
  {
   "cell_type": "markdown",
   "metadata": {},
   "source": [
    "#### Affine Registration\n",
    "\n",
    "This is the **difference** image/volume after a *Affine* registration."
   ]
  },
  {
   "cell_type": "code",
   "execution_count": 9,
   "metadata": {},
   "outputs": [
    {
     "data": {
      "text/html": [
       "<div align=\"middle\">\n",
       "<video width=\"40%\" controls>\n",
       "      <source src=\"Movie_Affine.m4v\" type=\"video/mp4\">\n",
       "</video></div>\n"
      ],
      "text/plain": [
       "<IPython.core.display.HTML object>"
      ]
     },
     "metadata": {},
     "output_type": "display_data"
    }
   ],
   "source": [
    "%%HTML\n",
    "<div align=\"middle\">\n",
    "<video width=\"40%\" controls>\n",
    "      <source src=\"Movie_Affine.m4v\" type=\"video/mp4\">\n",
    "</video></div>"
   ]
  },
  {
   "cell_type": "markdown",
   "metadata": {},
   "source": [
    "#### Deformable Registration\n",
    "\n",
    "\n",
    "This is the **difference** image/volume after a *Deformable* registration."
   ]
  },
  {
   "cell_type": "code",
   "execution_count": 2,
   "metadata": {
    "scrolled": true
   },
   "outputs": [
    {
     "data": {
      "text/html": [
       "<div align=\"middle\">\n",
       "<video width=\"40%\" controls>\n",
       "      <source src=\"Movie_Warp1.m4v\" type=\"video/mp4\">\n",
       "</video></div>\n"
      ],
      "text/plain": [
       "<IPython.core.display.HTML object>"
      ]
     },
     "metadata": {},
     "output_type": "display_data"
    }
   ],
   "source": [
    "%%HTML\n",
    "<div align=\"middle\">\n",
    "<video width=\"40%\" controls>\n",
    "      <source src=\"Movie_Warp1.m4v\" type=\"video/mp4\">\n",
    "</video></div>"
   ]
  },
  {
   "cell_type": "markdown",
   "metadata": {},
   "source": [
    "#### FFD\n",
    "\n",
    "Advantages\n",
    "* Smooth deformations\n",
    "* Can model local deformation reasonably effectively\n",
    "* Relies solely on image information,\n",
    "  * no manual landmark identification,\n",
    "  * does not require tissue mechanical properties and boundary conditions,\n",
    "* Easy to implement (no equation solving)\n",
    "* Efficient and localized controls for interactive editing\n",
    "* Can be coupled with different fitting or energy objectives\n",
    "\n",
    "Disadvantages\n",
    "* Too many lattice points in $3$D,\n",
    "  * Many DoFs (100s or 1000s),\n",
    "* Requires very high computer power to solve in an optimization framework,\n",
    "* The lattice structure is not suitable for organic, non-cubical shapes,\n",
    "* Robustness and realistic image deformation, e.g. folding"
   ]
  }
 ],
 "metadata": {
  "kernelspec": {
   "display_name": "Python 3",
   "language": "python",
   "name": "python3"
  },
  "language_info": {
   "codemirror_mode": {
    "name": "ipython",
    "version": 3
   },
   "file_extension": ".py",
   "mimetype": "text/x-python",
   "name": "python",
   "nbconvert_exporter": "python",
   "pygments_lexer": "ipython3",
   "version": "3.7.4"
  }
 },
 "nbformat": 4,
 "nbformat_minor": 2
}
