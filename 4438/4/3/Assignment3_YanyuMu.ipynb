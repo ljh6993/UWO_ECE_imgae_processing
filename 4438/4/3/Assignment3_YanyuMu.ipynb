{
 "cells": [
  {
   "cell_type": "markdown",
   "metadata": {},
   "source": [
    "<h1 align=\"center\">ECE 4438B Advanced Image Processing and Analysis</h1>\n",
    "<h2 align=\"center\"> Assignment #3</h2>\n",
    "<h3 align=\"center\"> Yanyu Mu, [ymu2@uwo.ca](mailto:ymu2@uwo.ca?subject=Assignment #2)</h3>\n",
    "<h4 align=\"center\"> Department of Electrical and Computer Engineering</h4>\n",
    "<h4 align=\"center\"> Western University</h4>\n",
    "<h4 align=\"center\"> March 29, 2018</h4>\n",
    "<h4 align=\"center\"> Submitted to Elvis C.S. Chen</h4>"
   ]
  },
  {
   "cell_type": "markdown",
   "metadata": {},
   "source": [
    "### Question 1: **($4$ marks total)**\n",
    "* **($1$ mark)** Based on the information contained in the graphs above, which of the above three image similarity metrics is the most appropriate to this problem?\n",
    "* **($2$ marks)** Why?  Provide at least two justifications for your choices of image similarity metrics,\n",
    "* **($1$ mark)** Which SimpleITK class implements your chosen image similarity metric?"
   ]
  },
  {
   "cell_type": "markdown",
   "metadata": {},
   "source": [
    "I would used the NMI method because it gives a clear peak at the black dashed line where MSE and NCC has two large peaks near the correct registration. The highest peak is slightly deviated from the correct value. NMI worked better with multi modal image registration and NCC worked better with mono modal. The two images are taken with different modalities from two different objects. The pixel intensities are different which is bad for MSE. From the graph, we can see a relativily larger plateau for NCC before it climbed to the peak value, where NMI has clear peak value.\n",
    "MattesMutualInformation can be used to implements NMI."
   ]
  },
  {
   "cell_type": "markdown",
   "metadata": {},
   "source": [
    "### Question 2: **($2$ marks total)**\n",
    "* **($1$ mark)** Suppose you were using the MSE image similarity metric and a gradient descent optimizer. Suppose that the user of some other process provided an initialization at the point indicated by the green arrow in the MSE graph (a) above. Will the optimizer definitely converge to the correct answer given by the dashed line?\n",
    "* **($1$ mark)** Why or why not?"
   ]
  },
  {
   "cell_type": "markdown",
   "metadata": {},
   "source": [
    "No. The gradient descent optimizer could get stuck at the first red dash line, the local minima where it thinks it has reached the lowest value."
   ]
  },
  {
   "cell_type": "markdown",
   "metadata": {},
   "source": [
    "### Question 3: **($4$ marks total)**\n",
    "* **($1$ mark)** Suppose you were using the NMI image similarity metric and a grandient ascent optimizer. Suppose that the user or some other process provided an initialization at the point indicated by the green arrow in the NMI graph (c) above. You run the optimizer, and you find that it converges somewhere between the green arrow and the dashed red line in the NMI graph (c) above. What parameter in the optimizer could you tue to encourage it to converge to the dashed black line instead?\n",
    "* **($1$ mark)** Would you increase, or decrease this parameter?\n",
    "* **($2$ mark)** As an alternative approach, what parameters you could tune in NMI image similarity metric computeration that could modify the shape of the NMI curve in graph (c) above?"
   ]
  },
  {
   "cell_type": "code",
   "execution_count": null,
   "metadata": {},
   "outputs": [],
   "source": [
    "convergenceMinimumValue\n",
    "I would increase. \n",
    "SetNumberOfHistogramBins could modify the shape of the NMI curve."
   ]
  },
  {
   "cell_type": "markdown",
   "metadata": {},
   "source": [
    "- (a) **(1 mark)** What is $R(60^\\circ)$?  Use Jupyter/Markdown to write out the matrix numerically up to $4$ decimal place. Pay attention to the unit for angle."
   ]
  },
  {
   "cell_type": "markdown",
   "metadata": {},
   "source": [
    "- (a) $R(60^\\circ) = \\begin{bmatrix} 0.5& -0.8660 \\\\ 0.8660& 0.5 \\end{bmatrix}$"
   ]
  },
  {
   "cell_type": "markdown",
   "metadata": {},
   "source": [
    "- (b) **(3 mark)** Verify your answer by writing a SimpleITK code. You may, for example,\n",
    "  - create an instance of Euler2DTransform\n",
    "  - specify the angle of rotation\n",
    "  - (optionally) specify the origin of rotation, and\n",
    "  - print out the rotation matrix."
   ]
  },
  {
   "cell_type": "code",
   "execution_count": 8,
   "metadata": {},
   "outputs": [],
   "source": [
    "import SimpleITK as sitk\n",
    "import numpy as np\n",
    "import utilities as util\n",
    "import matplotlib.pyplot as plt"
   ]
  },
  {
   "cell_type": "code",
   "execution_count": 37,
   "metadata": {},
   "outputs": [
    {
     "name": "stdout",
     "output_type": "stream",
     "text": [
      "(0.5000000000000001, -0.8660254037844386, 0.8660254037844386, 0.5000000000000001)\n"
     ]
    }
   ],
   "source": [
    "rotation2D = sitk.Euler2DTransform()\n",
    "rotation2D.SetAngle(np.pi/3)\n",
    "rotation2D.SetCenter( [0, 0] )\n",
    "print(rotation2D.GetMatrix())"
   ]
  },
  {
   "cell_type": "markdown",
   "metadata": {},
   "source": [
    "- (c) **(1 mark)** If you are given a rotation matrix $R(\\theta) = \\begin{bmatrix} \\frac{1}{\\sqrt{2}}& \\frac{1}{\\sqrt{2}} \\\\ -\\frac{1}{\\sqrt{2}}& \\frac{1}{\\sqrt{2}} \\end{bmatrix}$, **what is $\\theta$ in degree**?"
   ]
  },
  {
   "cell_type": "markdown",
   "metadata": {},
   "source": [
    "- (c)  $\\theta$ is $-45^\\circ$"
   ]
  },
  {
   "cell_type": "markdown",
   "metadata": {},
   "source": [
    "- (d) **(3 mark)** in SimpleITK, verify the above equation for rotation about the x-axis is correct. Assuming $\\theta=60^{\\circ}$:\n",
    "  - construct an instance of Euler3DTransform,\n",
    "    - make sure the center of rotation is at the origin,\n",
    "  - print out the matrix of rotation about the x-axis by $\\theta=60^{\\circ}$."
   ]
  },
  {
   "cell_type": "code",
   "execution_count": 43,
   "metadata": {},
   "outputs": [
    {
     "name": "stdout",
     "output_type": "stream",
     "text": [
      "(1.0, 0.0, 0.0, 0.0, 0.5000000000000001, -0.8660254037844386, 0.0, 0.8660254037844386, 0.5000000000000001)\n"
     ]
    }
   ],
   "source": [
    "rotation_center = (0, 0, 0)\n",
    "theta_x = np.pi/3.0\n",
    "theta_y = 0.0\n",
    "theta_z = 0.0\n",
    "rigid_euler = sitk.Euler3DTransform(rotation_center, theta_x, theta_y, theta_z)\n",
    "print(rigid_euler.GetMatrix())"
   ]
  },
  {
   "cell_type": "markdown",
   "metadata": {},
   "source": [
    "- (e) **(2 mark)** Going through the same mental exercise, construct the rotation matrix for rotation abot the y-axis by an amount of $\\theta$:\n",
    "  - Using Jupyter Notebook/Markdown, type out the rotation matrix as a function of $\\theta$,"
   ]
  },
  {
   "cell_type": "markdown",
   "metadata": {},
   "source": [
    "- (e) $R_{y}(\\theta) = \\begin{bmatrix} \\cos(\\theta) & 0 & \\sin(\\theta)\\\\ 0 & 1 & 0 \\\\ -\\sin(\\theta) & 0 & \\cos(\\theta) \\end{bmatrix}$"
   ]
  },
  {
   "cell_type": "markdown",
   "metadata": {},
   "source": [
    "- (f) **(2 mark)** Similarly, construct the rotation matrix for rotation abot the z-axis by an amount of $\\theta$:\n",
    "  - Using Jupyter Notebook/Markdown, type out the rotation matrix as a function of $\\theta$,"
   ]
  },
  {
   "cell_type": "markdown",
   "metadata": {},
   "source": [
    "- (f) $R_{z}(\\theta) = \\begin{bmatrix} \\cos(\\theta) & -\\sin(\\theta) & 0 \\\\ \\sin(\\theta) & \\cos(\\theta) & 0 \\\\ 0 & 0 & 1 \\end{bmatrix}$"
   ]
  },
  {
   "cell_type": "markdown",
   "metadata": {},
   "source": [
    "- (g) **(3 mark)** Successive rotations can be represented by a single rotation matrix. Let $R_x(\\theta)$ be the rotation about the x-axis by an angle $\\theta$, and $R_y(\\gamma)$ be the rotation about the y-axis by an angle $\\gamma$.\n",
    "- In general, does the rotation about x-axis by an angle $\\theta$ followed by a rotation about the y-axis by an angle $\\gamma$ **the same** as rotation about the y-axis by an angle $\\gamma$ first, followed the rotation about the x-axis by an angle $\\theta$?  **why or why not?** "
   ]
  },
  {
   "cell_type": "markdown",
   "metadata": {},
   "source": [
    "- (g) They are not the same.\n",
    "\n",
    "if $\\theta$ = $90^\\circ$ $\\gamma$ = $90^\\circ$\n",
    "\n",
    "$ \\begin{bmatrix} 1 & 0 & 0\\\\ 0 & 0 & -1\\\\ 0 & 1 & 0\\end{bmatrix} \\begin{bmatrix} 0 & 0 & 1\\\\0 & 1 & 0\\\\-1 & 0 & 0\\end{bmatrix}$ does not equal to $ \\begin{bmatrix} 0 & 0 & 1\\\\0 & 1 & 0\\\\-1 & 0 & 0\\end{bmatrix} \\begin{bmatrix} 1 & 0 & 0\\\\ 0 & 0 & -1\\\\ 0 & 1 & 0\\end{bmatrix} $\n",
    "Matrix multiplication is not commutative"
   ]
  },
  {
   "cell_type": "code",
   "execution_count": null,
   "metadata": {
    "collapsed": true
   },
   "outputs": [],
   "source": []
  }
 ],
 "metadata": {
  "kernelspec": {
   "display_name": "Python 3",
   "language": "python",
   "name": "python3"
  },
  "language_info": {
   "codemirror_mode": {
    "name": "ipython",
    "version": 3
   },
   "file_extension": ".py",
   "mimetype": "text/x-python",
   "name": "python",
   "nbconvert_exporter": "python",
   "pygments_lexer": "ipython3",
   "version": "3.6.7"
  }
 },
 "nbformat": 4,
 "nbformat_minor": 2
}
