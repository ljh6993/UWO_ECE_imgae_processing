{
 "cells": [
  {
   "cell_type": "code",
   "execution_count": null,
   "metadata": {},
   "outputs": [],
   "source": []
  },
  {
   "cell_type": "markdown",
   "metadata": {},
   "source": [
    "<h1 align=\"center\">ECE 4438B Advanced Image Processing and Analysis</h1>\n",
    "<h2 align=\"center\"> Assignment #1</h2>\n",
    "<h3 align=\"center\"> Yanyu Mu, [ymu2@uwo.ca](mailto:ymu2@uwo.ca?subject=Assignment #1)</h3>\n",
    "<h4 align=\"center\"> Department of Electrical and Computer Engineering</h4>\n",
    "<h4 align=\"center\"> Western University</h4>\n",
    "<h4 align=\"center\"> Feburary 09, 2018</h4>\n",
    "<h4 align=\"center\"> Submitted to Elvis C.S. Chen</h4>"
   ]
  },
  {
   "cell_type": "code",
   "execution_count": 4,
   "metadata": {},
   "outputs": [
    {
     "name": "stdout",
     "output_type": "stream",
     "text": [
      "env: SITK_SHOW_COMMAND=/Applications/ITK-SNAP.app/Contents/MacOS/ITK-SNAP\n",
      "SimpleITK Version: 1.2.0 (ITK 4.13)\n",
      "Compiled: Jan  3 2019 15:43:30\n",
      "\n"
     ]
    }
   ],
   "source": [
    "# Load (import) SimpleITK module into the Python interpretor, rename it as sitk \n",
    "import SimpleITK as sitk\n",
    "\n",
    "# Load (import) matplotlib.pyplot module and rename it as plt\n",
    "import matplotlib.pyplot as plt\n",
    "%env SITK_SHOW_COMMAND /Applications/ITK-SNAP.app/Contents/MacOS/ITK-SNAP \n",
    "\n",
    "print(sitk.Version())"
   ]
  },
  {
   "cell_type": "code",
   "execution_count": 6,
   "metadata": {},
   "outputs": [],
   "source": [
    "# Load the CT volumetric file named spine.mha\n",
    "vol = sitk.ReadImage('/Users/jianhuili/Desktop/fourth year/4438/UWO_AIP_FW18/Assignments/Assignment1/spine.mha')\n",
    "\n",
    "# The size (number of voxels) of the volume\n",
    "pixvol = vol.GetSize()\n",
    "\n",
    "# The physical size of the voxel\n",
    "phyvol = vol.GetSpacing()\n",
    "\n",
    "# The image slice from the middle of the stack, z axis\n",
    "midz = pixvol[2]//2\n",
    "\n",
    "#Display this 2D mid-Depth image\n",
    "sitk.Show(vol[:,:,midz])"
   ]
  },
  {
   "cell_type": "code",
   "execution_count": 7,
   "metadata": {},
   "outputs": [
    {
     "data": {
      "image/png": "[encoded data removed]",
      "text/plain": [
       "<Figure size 432x288 with 1 Axes>"
      ]
     },
     "metadata": {
      "needs_background": "light"
     },
     "output_type": "display_data"
    }
   ],
   "source": [
    "plt.figure()    # Creat a figure\n",
    "plt.hist(sitk.GetArrayViewFromImage(vol)[midz,:,:])    # plot histogram of the array, pointer pointed to the image.  \n",
    "plt.title(\"Histogram\")    # Title\n",
    "plt.xlabel(\"Pixel Intensity\")    # X label\n",
    "plt.ylabel(\"Occurance\")    # Y label\n",
    "plt.show()    # show figure"
   ]
  },
  {
   "cell_type": "code",
   "execution_count": 9,
   "metadata": {},
   "outputs": [],
   "source": [
    "thresholdFilter = sitk.BinaryThresholdImageFilter()    # create filter called thresholdfilter\n",
    "vol = sitk.ReadImage('/Users/jianhuili/Desktop/fourth year/4438/UWO_AIP_FW18/Assignments/Assignment1/spine.mha')    # load CT volume\n",
    "thresholdFilter.SetLowerThreshold(1000)    # lower threshold set to 1000\n",
    "thresholdFilter.SetUpperThreshold(2000)    # upper threshold set to 2000\n",
    "thresholdFilter.SetInsideValue(255)    # Inside range display with color white\n",
    "thresholdFilter.SetOutsideValue(0)    # Outside range idsplay with color black\n",
    "segmentedVolume = thresholdFilter.Execute(vol)    # run the filter output to segmentedVolume\n",
    "sitk.Show(segmentedVolume[:,:,midz])    # show the middle slice"
   ]
  },
  {
   "cell_type": "code",
   "execution_count": 10,
   "metadata": {},
   "outputs": [],
   "source": [
    "# Save segmentedVolume as 'segmented_spine.mha'\n",
    "sitk.WriteImage(segmentedVolume, 'segmented_spine.mha')"
   ]
  },
  {
   "cell_type": "markdown",
   "metadata": {},
   "source": [
    "**Task 7:**\n",
    "* Image Modality used: Computed Tomography\n",
    "* High density objects like bones shows up brighter than lower density surrounding\n",
    "* Bone and Air\n",
    "* Bone is the object (material) of interest. It is radio opaque. It's radio-opacity is around 1500HU.\n",
    "* From the histogram, the lower pixels corresponding to air which has lower density than water and bone corresponding to the higher pixel intensity which represents highter density than water.\n",
    "* <img src=\"chart.png\" style=\"width:700px\"/>"
   ]
  },
  {
   "cell_type": "code",
   "execution_count": null,
   "metadata": {},
   "outputs": [],
   "source": []
  }
 ],
 "metadata": {
  "kernelspec": {
   "display_name": "Python 3",
   "language": "python",
   "name": "python3"
  },
  "language_info": {
   "codemirror_mode": {
    "name": "ipython",
    "version": 3
   },
   "file_extension": ".py",
   "mimetype": "text/x-python",
   "name": "python",
   "nbconvert_exporter": "python",
   "pygments_lexer": "ipython3",
   "version": "3.6.7"
  }
 },
 "nbformat": 4,
 "nbformat_minor": 2
}
