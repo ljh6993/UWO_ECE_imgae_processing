{
 "cells": [
  {
   "cell_type": "markdown",
   "metadata": {},
   "source": [
    "\n",
    "<h1 align=\"center\">ECE 4438B Advanced Image Processing and Analysis</h1>\n",
    "<h3 align=\"center\">Assignment #2</h3>\n",
    "<h4 align=\"center\">Jianhui Li,  <a href=\"mailto:ljianhui@uwo.ca?subject=Assignment2\">ljianhui@uwo.ca</a></h4>\n",
    "<h4 align=\"center\">Mechatronic Systems Engineering</h4>\n",
    "<h4 align=\"center\">Western University</h4>\n",
    "<h4 align=\"center\">Date of submission: Mar. 1st, 2019</h4>\n",
    "<h4 align=\"center\">Submitted to: Elvis C.S. Chen</h4>"
   ]
  },
  {
   "cell_type": "code",
   "execution_count": 1,
   "metadata": {},
   "outputs": [
    {
     "name": "stdout",
     "output_type": "stream",
     "text": [
      "env: SITK_SHOW_COMMAND=/Applications/ITK-SNAP.app/Contents/MacOS/ITK-SNAP\n"
     ]
    }
   ],
   "source": [
    "import SimpleITK as sitk\n",
    "import numpy as np\n",
    "import matplotlib.pyplot as plt\n",
    "from RGB2Gray import RGB2Gray\n",
    "from myOtsuThresholding import myOtsuThresholding\n",
    "from myMaxEntropy import myMaxEntropy\n",
    "from OPA import OPA\n",
    "\n",
    "%env SITK_SHOW_COMMAND /Applications/ITK-SNAP.app/Contents/MacOS/ITK-SNAP "
   ]
  },
  {
   "cell_type": "code",
   "execution_count": 2,
   "metadata": {},
   "outputs": [],
   "source": [
    "sitk.WriteImage(RGB2Gray('inputImg_RGB.jpg'),\"outputImg_Gray.jpg\")    # create output image\n",
    "outputImg_Gray = sitk.ReadImage(\"outputImg_Gray.jpg\")    # read output image\n",
    "sitk.Show(outputImg_Gray)    # display output image"
   ]
  },
  {
   "cell_type": "code",
   "execution_count": 3,
   "metadata": {},
   "outputs": [
    {
     "data": {
      "image/png": "[encoded data removed]",
      "text/plain": [
       "<Figure size 432x288 with 1 Axes>"
      ]
     },
     "metadata": {
      "needs_background": "light"
     },
     "output_type": "display_data"
    }
   ],
   "source": [
    "plt.hist(sitk.GetArrayViewFromImage(outputImg_Gray))    # plot histogram\n",
    "plt.title(\"Histogram of the Grayscale Image\")\n",
    "plt.xlabel(\"Pixel Intensity\")\n",
    "plt.ylabel(\"Occurance\")\n",
    "plt.show()"
   ]
  },
  {
   "cell_type": "code",
   "execution_count": 4,
   "metadata": {},
   "outputs": [
    {
     "name": "stdout",
     "output_type": "stream",
     "text": [
      "variance =  1583.7181822282146 __ 135\n"
     ]
    }
   ],
   "source": [
    "myOtsuSeg = myOtsuThresholding(outputImg_Gray)    # calculate otsu threshold using my method\n",
    "sitk.Show(myOtsuSeg)    # image format is in UInt 8, pixel values are 1 and 0"
   ]
  },
  {
   "cell_type": "code",
   "execution_count": 5,
   "metadata": {},
   "outputs": [
    {
     "name": "stdout",
     "output_type": "stream",
     "text": [
      "134.0\n"
     ]
    }
   ],
   "source": [
    "Otsu_Filter = sitk.OtsuThresholdImageFilter()\n",
    "Otsu_Filter.SetInsideValue(1)\n",
    "Otsu_Filter.SetOutsideValue(0)\n",
    "SitkOtsuSeg = Otsu_Filter.Execute(outputImg_Gray)\n",
    "print( Otsu_Filter.GetThreshold())     # calculate otsu threshold using sitk function"
   ]
  },
  {
   "cell_type": "code",
   "execution_count": 6,
   "metadata": {},
   "outputs": [
    {
     "name": "stdout",
     "output_type": "stream",
     "text": [
      "Maximum entropy occurs at intensity: 63\n"
     ]
    }
   ],
   "source": [
    "myMaxEntropySeg = myMaxEntropy(outputImg_Gray)    # calculate max entropy using my method\n",
    "sitk.Show(myMaxEntropySeg)    # image format is in UInt 8, pixel values are 1 and 0, therefore "
   ]
  },
  {
   "cell_type": "code",
   "execution_count": 7,
   "metadata": {},
   "outputs": [
    {
     "name": "stdout",
     "output_type": "stream",
     "text": [
      "63.0\n"
     ]
    }
   ],
   "source": [
    "MaxEntropy_Filter = sitk.MaximumEntropyThresholdImageFilter()\n",
    "MaxEntropy_Filter.SetInsideValue(1)\n",
    "MaxEntropy_Filter.SetOutsideValue(0)\n",
    "SitkEntropySeg = MaxEntropy_Filter.Execute(outputImg_Gray)\n",
    "print(MaxEntropy_Filter.GetThreshold())    # calculate max entropy using sitk function"
   ]
  },
  {
   "cell_type": "code",
   "execution_count": 10,
   "metadata": {},
   "outputs": [
    {
     "name": "stdout",
     "output_type": "stream",
     "text": [
      "0.6449715731041274\n",
      "0.7841735184359936\n",
      "0.3550284268958725\n",
      "0.0\n"
     ]
    }
   ],
   "source": [
    "overlap_measures_filter = sitk.LabelOverlapMeasuresImageFilter()\n",
    "overlap_measures_filter.Execute( myMaxEntropySeg,myOtsuSeg )\n",
    "#Jaccard Similarity Coefficient\n",
    "print( overlap_measures_filter.GetJaccardCoefficient())\n",
    "#Dice Similarity Coefficient\n",
    "print( overlap_measures_filter.GetDiceCoefficient())\n",
    "#False Positive Rate\n",
    "print(overlap_measures_filter.GetFalsePositiveError())\n",
    "#False Negative Rate\n",
    "print(overlap_measures_filter.GetFalseNegativeError())"
   ]
  },
  {
   "cell_type": "code",
   "execution_count": 9,
   "metadata": {},
   "outputs": [],
   "source": [
    "#Jaccard and Dice metric is similar to each other. J=DSC/(2−DSC), and DSC=2J/(1+J)\n",
    "#they are monotonic to each other.\n",
    "#Jaccard coefficient is always larger than Dice metric except at the extrema  {0,1} where they are equal. \n",
    "#Since we can convert one to the other, it means that both of the metrics measure the same aspects \n",
    "#and provide the same system ranking. \n",
    "#Therefore, it does not provide additional information to use them together as validation metrices."
   ]
  },
  {
   "cell_type": "code",
   "execution_count": 5,
   "metadata": {},
   "outputs": [
    {
     "name": "stdout",
     "output_type": "stream",
     "text": [
      "[[ 0.60224825  0.78182998 -0.16136584]\n",
      " [-0.79820647  0.5929783  -0.10603381]\n",
      " [ 0.01278603  0.19266194  0.98118189]]\n",
      "[4.99997468 6.00001036 7.00001665]\n"
     ]
    }
   ],
   "source": [
    "\n",
    "X = np.array([[0.0000,0.0000,0.0000],[1.0000, 0.0000, 0.0000], [0.0000,1.0000,0.0000], [2.0000,3.0000,4.0000]]).transpose()\n",
    "Y = np.array([[5.0000 ,   6.0000,    7.0000],\n",
    "    [5.6022,    5.2018,    7.0128],\n",
    "    [5.7818,    6.5930,    7.1927],\n",
    "    [7.9045,    5.7584,   11.5283]    ]).transpose()\n",
    "R,T=OPA(X,Y)"
   ]
  },
  {
   "cell_type": "code",
   "execution_count": null,
   "metadata": {},
   "outputs": [],
   "source": [
    "#n general, how many paired points do we need to obtain a unique solution to register X Y in 3D (5 marks)? Justify your answer.\n",
    "\n",
    "# at least 4 points. because four related points can detect the unique R and T \n",
    "\n",
    "\n",
    "\n"
   ]
  }
 ],
 "metadata": {
  "kernelspec": {
   "display_name": "Python 3",
   "language": "python",
   "name": "python3"
  },
  "language_info": {
   "codemirror_mode": {
    "name": "ipython",
    "version": 3
   },
   "file_extension": ".py",
   "mimetype": "text/x-python",
   "name": "python",
   "nbconvert_exporter": "python",
   "pygments_lexer": "ipython3",
   "version": "3.6.7"
  }
 },
 "nbformat": 4,
 "nbformat_minor": 2
}
